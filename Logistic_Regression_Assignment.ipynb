{
  "nbformat": 4,
  "nbformat_minor": 0,
  "metadata": {
    "colab": {
      "provenance": [],
      "authorship_tag": "ABX9TyN+WPYMaJ1axlpMT9dm822a",
      "include_colab_link": true
    },
    "kernelspec": {
      "name": "python3",
      "display_name": "Python 3"
    },
    "language_info": {
      "name": "python"
    }
  },
  "cells": [
    {
      "cell_type": "markdown",
      "metadata": {
        "id": "view-in-github",
        "colab_type": "text"
      },
      "source": [
        "<a href=\"https://colab.research.google.com/github/mrpahadi2609/ML/blob/main/Logistic_Regression_Assignment.ipynb\" target=\"_parent\"><img src=\"https://colab.research.google.com/assets/colab-badge.svg\" alt=\"Open In Colab\"/></a>"
      ]
    },
    {
      "cell_type": "markdown",
      "source": [
        "**THEORETICAL** **QUESTIONS**"
      ],
      "metadata": {
        "id": "jaG6PJKNNIQG"
      }
    },
    {
      "cell_type": "code",
      "execution_count": null,
      "metadata": {
        "id": "L705ME5ZM4Cb"
      },
      "outputs": [],
      "source": [
        "## QUES 1) What is Logistic Regression, and how does it differ from Linear Regression."
      ]
    },
    {
      "cell_type": "markdown",
      "source": [
        "Logistic regression is a statistical method used to predict the probability of a categorical dependent variable, while linear regression predicts a continuous dependent variable.\n",
        "\n",
        "Logistic regression uses a sigmoid function to transform the linear combination of independent variables into a probability, which ranges between 0 and 1. Linear regression, on the other hand, uses a linear function to predict the dependent variable.\n",
        "\n",
        "The key difference lies in the type of outcome variable they predict: logistic regression predicts categorical outcomes (like yes/no, true/false), while linear regression predicts continuous outcomes (like temperature, height, etc.)."
      ],
      "metadata": {
        "id": "skLUjPfNNfHe"
      }
    },
    {
      "cell_type": "code",
      "source": [
        "## QUES 2) What is the mathematical equation of Logistic Regression."
      ],
      "metadata": {
        "id": "77wPPEF9OA-N"
      },
      "execution_count": null,
      "outputs": []
    },
    {
      "cell_type": "markdown",
      "source": [
        "The mathematical equation for logistic regression is:\n",
        "\n",
        "```\n",
        "P(Y = 1 | X) = 1 / (1 + exp(-(b0 + b1 * X1 + b2 * X2 + ... + bn * Xn)))\n",
        "```\n",
        "\n",
        "Where:\n",
        "\n",
        "*  P(Y = 1 | X) represents the probability of the dependent variable (Y) being equal to 1 given the values of the independent variables (X).\n",
        "* exp() is the exponential function.\n",
        "* b0 is the intercept.\n",
        "* b1, b2, ..., bn are the coefficients for the independent variables (X1, X2, ..., Xn).\n",
        "\n",
        "This equation calculates the probability of an event occurring based on the values of the independent variables and the estimated coefficients."
      ],
      "metadata": {
        "id": "HDY0d3-8OTpv"
      }
    },
    {
      "cell_type": "code",
      "source": [
        "## QUES 3) Why do we use the Sigmoid function in Logistic Regression."
      ],
      "metadata": {
        "id": "qVezruusOahn"
      },
      "execution_count": null,
      "outputs": []
    },
    {
      "cell_type": "markdown",
      "source": [
        "We use the sigmoid function in logistic regression because it transforms the linear combination of independent variables into a probability, which ranges between 0 and 1.\n",
        "\n",
        "The sigmoid function is S-shaped and has the following properties:\n",
        "\n",
        "* Output range: It squashes the output of the linear combination to a range between 0 and 1, which is suitable for representing probabilities.\n",
        "* Smoothness: It is a smooth function, which makes it differentiable and allows for the use of gradient descent optimization.\n",
        "* Monotonicity: It is a monotonically increasing function, meaning that as the input increases, the output also increases. This ensures that the probability of the event occurring increases as the linear combination of independent variables increases.\n",
        "\n",
        "In essence, the sigmoid function allows us to interpret the output of the logistic regression model as a probability, which is crucial for making predictions about categorical outcomes."
      ],
      "metadata": {
        "id": "pdM9Z7nAOe52"
      }
    },
    {
      "cell_type": "code",
      "source": [
        "## QUES 4) What is the cost function of Logistic Regression."
      ],
      "metadata": {
        "id": "sxDQ8-fjOmn_"
      },
      "execution_count": null,
      "outputs": []
    },
    {
      "cell_type": "markdown",
      "source": [
        "The cost function in logistic regression is called the log loss or cross-entropy loss. It measures the difference between the predicted probabilities and the actual outcomes.\n",
        "\n",
        "Here's the formula:\n",
        "\n",
        "```\n",
        "Cost(h(x), y) = - (y * log(h(x)) + (1 - y) * log(1 - h(x)))\n",
        "```\n",
        "\n",
        "Where:\n",
        "\n",
        "* h(x) is the predicted probability of the event occurring.\n",
        "* y is the actual outcome (0 or 1).\n",
        "* log() is the natural logarithm.\n",
        "\n",
        "The cost function is minimized during training using optimization algorithms like gradient descent. The goal is to find the coefficients that minimize the difference between the predicted probabilities and the actual outcomes.\n",
        "\n",
        "The log loss function is commonly used because it is:\n",
        "\n",
        "* Differentiable: It allows for the use of gradient descent to find the optimal coefficients.\n",
        "* Convex: It has a single minimum point, making it easier to find the optimal solution.\n",
        "* Intuitive: It penalizes incorrect predictions more heavily than correct predictions.\n",
        "\n",
        "In summary, the log loss function is a key component of logistic regression that helps to find the best model parameters by minimizing the difference between the predicted probabilities and the actual outcomes."
      ],
      "metadata": {
        "id": "PbhynjUQOyHG"
      }
    },
    {
      "cell_type": "code",
      "source": [
        "## QUES 5) What is Regularization in Logistic Regression? Why is it needed."
      ],
      "metadata": {
        "id": "UL88YT8nO193"
      },
      "execution_count": null,
      "outputs": []
    },
    {
      "cell_type": "markdown",
      "source": [
        "Regularization in logistic regression is a technique used to prevent overfitting, which occurs when a model learns the training data too well and performs poorly on unseen data.\n",
        "\n",
        "It works by adding a penalty term to the cost function, which discourages the model from assigning large weights to the independent variables. This helps to simplify the model and improve its generalization ability.\n",
        "\n",
        "Here are the two most common types of regularization:\n",
        "\n",
        "* L1 Regularization (Lasso): Adds a penalty term proportional to the absolute value of the weights. This encourages sparsity, meaning that some weights are set to zero, effectively removing those features from the model.\n",
        "* L2 Regularization (Ridge): Adds a penalty term proportional to the squared value of the weights. This shrinks the weights towards zero, but doesn't force them to be exactly zero.\n",
        "\n",
        "Why is regularization needed?\n",
        "\n",
        "* Overfitting: Without regularization, the model might learn the training data too well and fail to generalize to new data. This is especially problematic when the training data is noisy or has a limited number of samples.\n",
        "* Feature Selection: L1 regularization can help identify the most important features by setting the weights of less important features to zero.\n",
        "* Improved Generalization: Regularization helps to create simpler models that are less prone to overfitting and perform better on unseen data.\n",
        "\n",
        "In summary, regularization is a valuable technique in logistic regression that helps to improve model performance by preventing overfitting and promoting generalization."
      ],
      "metadata": {
        "id": "snq-9mSnO_xP"
      }
    },
    {
      "cell_type": "code",
      "source": [
        "## QUES 6) Explain the difference between Lasso, Ridge, and Elastic Net regression."
      ],
      "metadata": {
        "id": "v0mhIXx_PExS"
      },
      "execution_count": null,
      "outputs": []
    },
    {
      "cell_type": "markdown",
      "source": [
        "Lasso, Ridge, and Elastic Net are all regularization techniques used to prevent overfitting in linear regression models. They differ in how they penalize the model's coefficients.\n",
        "\n",
        "Lasso Regression (L1 Regularization):\n",
        "\n",
        "* Penalty:  Adds a penalty term proportional to the absolute value of the coefficients.\n",
        "* Effect: Encourages sparsity, meaning it forces some coefficients to be exactly zero, effectively removing those features from the model.\n",
        "* Use Case:  Useful for feature selection, especially when dealing with a high number of features. It can identify the most relevant features and simplify the model.\n",
        "\n",
        "Ridge Regression (L2 Regularization):\n",
        "\n",
        "* Penalty: Adds a penalty term proportional to the squared value of the coefficients.\n",
        "* Effect: Shrinks the coefficients towards zero, but doesn't force them to be exactly zero.\n",
        "* Use Case:  Useful for dealing with multicollinearity (high correlation between features). It stabilizes the model and prevents coefficients from becoming too large due to correlated features.\n",
        "\n",
        "Elastic Net Regression:\n",
        "\n",
        "* Penalty: Combines both L1 and L2 penalties.\n",
        "* Effect: Offers a balance between feature selection (from L1) and shrinkage (from L2).\n",
        "* Use Case:  Useful when dealing with a high number of features and potential multicollinearity. It can perform feature selection and stabilize the model simultaneously.\n",
        "\n",
        "In Summary:\n",
        "\n",
        "* Lasso: Good for feature selection and sparsity.\n",
        "* Ridge: Good for dealing with multicollinearity and stabilizing coefficients.\n",
        "* Elastic Net: Combines the benefits of both Lasso and Ridge, offering a more flexible approach.\n",
        "\n",
        "The choice between these methods depends on the specific dataset and the goals of the analysis."
      ],
      "metadata": {
        "id": "6cwFQcLWPNKG"
      }
    },
    {
      "cell_type": "code",
      "source": [
        "## QUES 7) When should we use Elastic Net instead of Lasso or Ridge."
      ],
      "metadata": {
        "id": "Eeq6r2xpPb7j"
      },
      "execution_count": null,
      "outputs": []
    },
    {
      "cell_type": "markdown",
      "source": [
        "You should use Elastic Net instead of Lasso or Ridge when you face a scenario with both a high number of features and potential multicollinearity.\n",
        "\n",
        "Here's a breakdown of when to choose Elastic Net:\n",
        "\n",
        "* High Number of Features: When you have many features (often referred to as \"high dimensionality\"), Lasso can be effective for feature selection. However, if there's significant multicollinearity among those features, Lasso might not perform optimally. Elastic Net, with its combination of L1 and L2 penalties, can handle this situation better.\n",
        "* Multicollinearity:  Multicollinearity occurs when features are highly correlated. In such cases, Ridge regression can be helpful to stabilize the model. However, Ridge might not perform feature selection as effectively as Lasso. Elastic Net strikes a balance by offering both shrinkage and feature selection, making it suitable for situations with multicollinearity and a large number of features.\n",
        "\n",
        "In essence, Elastic Net is a good choice when you need the benefits of both feature selection and stability, which often occurs in high-dimensional datasets with potential multicollinearity."
      ],
      "metadata": {
        "id": "yx-xRkusPhri"
      }
    },
    {
      "cell_type": "code",
      "source": [
        "## QUES 8) What is the impact of the regularization parameter (λ) in Logistic Regression."
      ],
      "metadata": {
        "id": "leQsOEhGPrk4"
      },
      "execution_count": null,
      "outputs": []
    },
    {
      "cell_type": "markdown",
      "source": [
        "The regularization parameter (λ) in Logistic Regression plays a crucial role in controlling the complexity of the model and preventing overfitting.\n",
        "\n",
        "Here's the impact of λ:\n",
        "\n",
        "* λ = 0:  No regularization. The model is free to fit the training data as closely as possible, which can lead to overfitting, especially with complex datasets.\n",
        "* λ > 0:  Regularization is applied. As λ increases, the penalty on the model's coefficients also increases. This forces the coefficients to shrink towards zero.\n",
        "* Large λ:  The model becomes simpler, with coefficients closer to zero. This reduces the risk of overfitting but might lead to underfitting if λ is too large.\n",
        "\n",
        "In essence, λ acts as a trade-off between model complexity and overfitting.\n",
        "\n",
        "* Small λ:  Allows for a more complex model, potentially capturing more intricate relationships in the data but increasing the risk of overfitting.\n",
        "* Large λ:  Forces a simpler model, reducing overfitting but potentially missing important relationships in the data.\n",
        "\n",
        "The optimal value of λ is typically determined through cross-validation, where the model is evaluated on different subsets of the data to find the value that provides the best balance between bias and variance."
      ],
      "metadata": {
        "id": "Il4Gk9g8Pyp2"
      }
    },
    {
      "cell_type": "code",
      "source": [
        "## QUES 9) What are the key assumptions of Logistic Regression."
      ],
      "metadata": {
        "id": "D8NLfIrJP7t2"
      },
      "execution_count": null,
      "outputs": []
    },
    {
      "cell_type": "markdown",
      "source": [
        "Logistic Regression, despite its name, is a classification algorithm, not a regression one. It predicts the probability of a binary outcome (0 or 1). Here are the key assumptions of Logistic Regression:\n",
        "\n",
        "1. Linearity in the logit: The relationship between the independent variables and the log odds of the outcome is assumed to be linear. This means that the log odds of the outcome change linearly with changes in the independent variables.\n",
        "\n",
        "2. Independence of observations: The observations in the dataset are assumed to be independent of each other. This means that the outcome of one observation does not influence the outcome of any other observation.\n",
        "\n",
        "3. Absence of perfect multicollinearity: The independent variables should not be perfectly correlated with each other. This can lead to unstable coefficient estimates.\n",
        "\n",
        "4. Sufficient sample size: A large enough sample size is needed to ensure that the model can accurately estimate the coefficients and make reliable predictions.\n",
        "\n",
        "5. No outliers: Outliers in the data can have a significant impact on the model's coefficients and predictions.\n",
        "\n",
        "It's important to note that Logistic Regression is a robust model that can handle violations of some of these assumptions to a certain extent. However, it's crucial to be aware of these assumptions and to check for violations in your data before fitting a Logistic Regression model."
      ],
      "metadata": {
        "id": "rUcpo5gRQDEl"
      }
    },
    {
      "cell_type": "code",
      "source": [
        "## QUES 10) What are some alternatives to Logistic Regression for classification tasks."
      ],
      "metadata": {
        "id": "OKyBjUTbQcdk"
      },
      "execution_count": null,
      "outputs": []
    },
    {
      "cell_type": "markdown",
      "source": [
        "Some popular alternatives to Logistic Regression for classification tasks, each with its own strengths and weaknesses:\n",
        "\n",
        "* Support Vector Machines (SVMs):  Excellent for high-dimensional data and non-linear decision boundaries. SVMs aim to find the optimal hyperplane that separates different classes with the largest margin.\n",
        "* Decision Trees:  Easy to interpret and understand. Decision Trees create a tree-like structure to represent the decision-making process, where each node represents a feature and each branch represents a decision rule.\n",
        "* Random Forests:  Ensemble method that combines multiple decision trees to improve accuracy and reduce overfitting. Random Forests average the predictions of multiple decision trees to make a final prediction.\n",
        "* Naive Bayes:  Simple and efficient algorithm based on Bayes' theorem. It assumes that features are independent of each other, which might not always hold in real-world scenarios.\n",
        "* K-Nearest Neighbors (KNN):  Non-parametric algorithm that classifies new data points based on the majority class of their k nearest neighbors. KNN is simple to implement but can be computationally expensive for large datasets.\n",
        "* Neural Networks:  Powerful models capable of learning complex patterns and non-linear relationships. Neural Networks are often used for image recognition, natural language processing, and other tasks with large amounts of data.\n",
        "\n",
        "The best choice for your classification task will depend on the specific characteristics of your data, the complexity of the problem, and your desired trade-off between accuracy, interpretability, and computational efficiency."
      ],
      "metadata": {
        "id": "b1r4ptqiQhMQ"
      }
    },
    {
      "cell_type": "code",
      "source": [
        "## QUES 11) What are Classification Evaluation Metrics."
      ],
      "metadata": {
        "id": "m3YrtVuLQvP2"
      },
      "execution_count": null,
      "outputs": []
    },
    {
      "cell_type": "markdown",
      "source": [
        "Classification evaluation metrics are used to assess the performance of a classification model. They help you understand how well your model is classifying data into different categories. Here are some commonly used metrics:\n",
        "\n",
        "* Accuracy: The proportion of correctly classified instances. It's a good overall measure but can be misleading if the classes are imbalanced.\n",
        "\n",
        "* Precision: The proportion of correctly classified positive instances among all instances predicted as positive. It measures how precise the model is in identifying positive cases.\n",
        "\n",
        "* Recall (Sensitivity): The proportion of correctly classified positive instances among all actual positive instances. It measures how well the model captures all the positive cases.\n",
        "\n",
        "* F1-score: The harmonic mean of precision and recall. It provides a balanced measure of both precision and recall.\n",
        "\n",
        "* Specificity: The proportion of correctly classified negative instances among all actual negative instances. It measures how well the model identifies negative cases.\n",
        "\n",
        "* ROC Curve (Receiver Operating Characteristic): A graphical representation of the trade-off between true positive rate (recall) and false positive rate. It helps visualize the performance of the model across different thresholds.\n",
        "\n",
        "* AUC (Area Under the Curve): The area under the ROC curve. It provides a single value summarizing the overall performance of the model.\n",
        "\n",
        "The choice of evaluation metric depends on the specific needs of your application and the relative importance of different types of errors. For example, if you're building a medical diagnosis system, you might prioritize recall to ensure that all positive cases are identified."
      ],
      "metadata": {
        "id": "qhwlPEVMQ4z5"
      }
    },
    {
      "cell_type": "code",
      "source": [
        "## QUES 12)  How does class imbalance affect Logistic Regression."
      ],
      "metadata": {
        "id": "88RE1fMPQ79k"
      },
      "execution_count": null,
      "outputs": []
    },
    {
      "cell_type": "markdown",
      "source": [
        "Class imbalance significantly affects Logistic Regression, leading to biased models that perform poorly on the minority class. Here's how:\n",
        "\n",
        "* Bias towards the Majority Class: Logistic Regression aims to minimize the overall error, but with imbalanced data, it prioritizes correctly classifying the majority class, leading to poor performance on the minority class.\n",
        "\n",
        "* Underestimation of Minority Class Probabilities: The model tends to underestimate the probability of belonging to the minority class, making it less likely to correctly classify minority instances.\n",
        "\n",
        "* Overfitting to the Majority Class: The model may overfit to the majority class, learning its patterns too well and failing to generalize to the minority class.\n",
        "\n",
        "Consequences:\n",
        "\n",
        "* High Accuracy, Low Recall:  The model might achieve high overall accuracy but have low recall for the minority class, meaning it misses many true positive instances.\n",
        "\n",
        "* Unreliable Predictions:  The model's predictions for the minority class become less reliable, leading to inaccurate decisions.\n",
        "\n",
        "Solutions:\n",
        "\n",
        "* Oversampling: Replicating minority class instances to balance the dataset.\n",
        "* Undersampling: Removing majority class instances to balance the dataset.\n",
        "* Cost-sensitive Learning:  Assigning higher weights to minority class misclassifications during training.\n",
        "* Ensemble Methods: Combining multiple models trained on different subsets of the data to improve robustness.\n",
        "\n",
        "The choice of solution depends on the specific dataset and the desired trade-off between accuracy and recall."
      ],
      "metadata": {
        "id": "i3tIvSIsRDeZ"
      }
    },
    {
      "cell_type": "code",
      "source": [
        "## QUES 13) What is Hyperparameter Tuning in Logistic Regression."
      ],
      "metadata": {
        "id": "5xVPlSB8RJyY"
      },
      "execution_count": null,
      "outputs": []
    },
    {
      "cell_type": "markdown",
      "source": [
        "Hyperparameter tuning in Logistic Regression is the process of finding the optimal values for the model's parameters that are not learned from the data itself. These parameters control the model's behavior and complexity. Here's a breakdown:\n",
        "\n",
        "* Hyperparameters: These are settings that define the model's structure and learning process. Examples in Logistic Regression include:\n",
        "\n",
        "    * Regularization Strength (C): Controls the amount of regularization applied to prevent overfitting. A higher value means less regularization, while a lower value means more regularization.\n",
        "    * Solver: The algorithm used for optimization. Options include 'liblinear', 'sag', 'newton-cg', etc.\n",
        "    * Penalty: The type of regularization applied. Options include 'l1' (Lasso) and 'l2' (Ridge).\n",
        "\n",
        "* Tuning:  The process of systematically trying different combinations of hyperparameter values to find the best performing model. This involves:\n",
        "\n",
        "    * Defining a Search Space: Specifying the range of values for each hyperparameter.\n",
        "    * Choosing a Search Strategy:  Methods like grid search, random search, or Bayesian optimization are used to explore the search space.\n",
        "    * Evaluating Model Performance:  Using metrics like accuracy, precision, recall, or F1-score to evaluate the performance of the model for each hyperparameter combination.\n",
        "\n",
        "* Objective: The goal of hyperparameter tuning is to find the combination of hyperparameters that maximizes the chosen evaluation metric on a validation set.\n",
        "\n",
        "Importance:\n",
        "\n",
        "* Optimizing Model Performance:  Tuning hyperparameters can significantly improve the model's accuracy and generalization ability.\n",
        "* Preventing Overfitting:  Proper tuning helps avoid overfitting to the training data and improves the model's ability to generalize to unseen data.\n",
        "\n",
        "Tools:\n",
        "\n",
        "* Scikit-learn (Python):  Provides functions like GridSearchCV and RandomizedSearchCV for hyperparameter tuning.\n",
        "* Keras Tuner (Python):  A library for tuning deep learning models, including Logistic Regression.\n",
        "\n",
        "Tuning hyperparameters is crucial for building a high-performing and reliable Logistic Regression model."
      ],
      "metadata": {
        "id": "CsaCcRp5ROSe"
      }
    },
    {
      "cell_type": "code",
      "source": [
        "## QUES 14) What are different solvers in Logistic Regression? Which one should be used."
      ],
      "metadata": {
        "id": "U_79wsgtRU_c"
      },
      "execution_count": null,
      "outputs": []
    },
    {
      "cell_type": "markdown",
      "source": [
        "In Logistic Regression, solvers are algorithms used to find the optimal parameters (weights) that minimize the cost function. Different solvers have varying strengths and weaknesses, making the choice dependent on your dataset and computational resources.\n",
        "\n",
        "Some common solvers and their characteristics:\n",
        "\n",
        "* liblinear: A good choice for smaller datasets and high-dimensional data. It's efficient and reliable for problems with a large number of features.\n",
        "* sag: Stands for \"Stochastic Average Gradient\". It's efficient for large datasets and can handle sparse data well.\n",
        "* newton-cg: Uses Newton's method for optimization, known for its fast convergence but can be computationally expensive for large datasets.\n",
        "* lbfgs: A quasi-Newton method that's a good compromise between speed and accuracy. It's often a good choice for medium-sized datasets.\n",
        "* saga: Similar to SAG, but with better convergence properties for non-convex problems.\n",
        "\n",
        "Which one to use:\n",
        "\n",
        "* For small datasets or datasets with many features: liblinear is a good starting point.\n",
        "* For large datasets or datasets with sparse features: sag or saga are efficient options.\n",
        "* If you need fast convergence and have sufficient computational resources: newton-cg can be a good choice.\n",
        "* For medium-sized datasets: lbfgs is often a good balance between speed and accuracy.\n",
        "\n",
        "Ultimately, the best solver depends on the specific characteristics of your dataset and your computational resources. It's often a good idea to experiment with different solvers and compare their performance to find the best one for your needs."
      ],
      "metadata": {
        "id": "Nj9sgfrTRdhQ"
      }
    },
    {
      "cell_type": "code",
      "source": [
        "## QUES 15)  How is Logistic Regression extended for multiclass classification."
      ],
      "metadata": {
        "id": "Cq93NdVMRiNw"
      },
      "execution_count": null,
      "outputs": []
    },
    {
      "cell_type": "markdown",
      "source": [
        "Logistic Regression, by default, is a binary classifier. To extend it for multiclass classification, we use techniques like:\n",
        "\n",
        "1. One-vs-Rest (OvR):\n",
        "\n",
        "* Train separate binary classifiers for each class, treating one class as positive and the rest as negative.\n",
        "* For prediction, the class with the highest probability from the individual classifiers is chosen.\n",
        "\n",
        "2. One-vs-One (OvO):\n",
        "\n",
        "* Train binary classifiers for every pair of classes.\n",
        "* For prediction, each classifier votes for the class it predicts, and the class with the most votes wins.\n",
        "\n",
        "3. Softmax Regression:\n",
        "\n",
        "* This is a direct generalization of logistic regression for multiclass classification.\n",
        "* It uses a softmax function to output probabilities for each class, ensuring that the probabilities sum to 1.\n",
        "\n",
        "Advantages and Disadvantages:\n",
        "\n",
        "* OvR: Simple to implement, but can be less accurate than other methods, especially for highly overlapping classes.\n",
        "* OvO: More computationally expensive than OvR, but can be more accurate, especially for small datasets.\n",
        "* Softmax: More accurate than OvR and OvO, but requires more computational resources.\n",
        "\n",
        "Which to choose:\n",
        "\n",
        "* OvR: Good for large datasets and when computational resources are limited.\n",
        "* OvO: Good for small datasets and when accuracy is a priority.\n",
        "* Softmax: Generally the most accurate approach, but can be computationally expensive.\n",
        "\n",
        "In summary:\n",
        "\n",
        "The choice of method depends on the size of your dataset, the complexity of the problem, and the computational resources available. For most cases, Softmax Regression is the preferred approach for multiclass classification with Logistic Regression."
      ],
      "metadata": {
        "id": "Xfg4GXJORnIg"
      }
    },
    {
      "cell_type": "code",
      "source": [
        "## QUES 16) What are the advantages and disadvantages of Logistic Regression."
      ],
      "metadata": {
        "id": "D82Jpor9RsgA"
      },
      "execution_count": null,
      "outputs": []
    },
    {
      "cell_type": "markdown",
      "source": [
        "Logistic Regression is a popular and powerful algorithm for classification tasks. Here are some of its advantages and disadvantages:\n",
        "\n",
        "Advantages:\n",
        "\n",
        "* Simplicity: It's relatively easy to understand and implement, making it a good starting point for classification problems.\n",
        "* Interpretability: The coefficients of the model can be interpreted to understand the relationship between the features and the target variable. This makes it easier to explain the model's predictions.\n",
        "* Efficiency: It's computationally efficient and can be trained quickly, even on large datasets.\n",
        "* Regularization: Techniques like L1 and L2 regularization can be used to prevent overfitting and improve the model's generalization performance.\n",
        "* Widely used: It's a widely used algorithm and has been extensively studied, meaning there's a lot of documentation and resources available.\n",
        "\n",
        "Disadvantages:\n",
        "\n",
        "* Linearity: It assumes a linear relationship between the features and the target variable, which may not always hold true.\n",
        "* Non-linear data: It may not perform well on datasets with highly non-linear decision boundaries.\n",
        "* Sensitivity to outliers: It can be sensitive to outliers in the data, which can affect the model's accuracy.\n",
        "* Limited feature interactions: It doesn't explicitly model feature interactions, which can be important for some problems.\n",
        "* Not suitable for all problems: It's not suitable for all classification problems, especially those with complex relationships between features and the target variable.\n",
        "\n",
        "Overall, Logistic Regression is a powerful and versatile algorithm with several advantages. However, it's important to understand its limitations and choose it carefully based on the specific problem at hand."
      ],
      "metadata": {
        "id": "4KWE6HDbRyi0"
      }
    },
    {
      "cell_type": "code",
      "source": [
        "## QUES 17) What are some use cases of Logistic Regression."
      ],
      "metadata": {
        "id": "8AQY5HSqR4HF"
      },
      "execution_count": null,
      "outputs": []
    },
    {
      "cell_type": "markdown",
      "source": [
        "Logistic Regression is a versatile algorithm with many use cases. Here are a few examples:\n",
        "\n",
        "* Credit Risk Assessment: Banks and financial institutions use Logistic Regression to predict the likelihood of a borrower defaulting on a loan based on factors like income, credit history, and debt-to-income ratio.\n",
        "* Spam Detection: Email providers use Logistic Regression to identify spam emails based on features like the sender's address, email content, and keywords.\n",
        "* Medical Diagnosis: Healthcare professionals use Logistic Regression to predict the likelihood of a patient developing a particular disease based on their medical history, symptoms, and other factors.\n",
        "* Customer Churn Prediction: Businesses use Logistic Regression to predict which customers are likely to churn (stop using their services) based on factors like their usage patterns, satisfaction levels, and demographics.\n",
        "* Marketing Campaign Effectiveness: Companies use Logistic Regression to predict the success rate of marketing campaigns based on factors like the target audience, campaign message, and channel used.\n",
        "\n",
        "These are just a few examples, and Logistic Regression can be applied to many other classification problems in various domains."
      ],
      "metadata": {
        "id": "Ac970EQ6R9l9"
      }
    },
    {
      "cell_type": "code",
      "source": [
        "## QUES 18) What is the difference between Softmax Regression and Logistic Regression."
      ],
      "metadata": {
        "id": "UlZrZo7-SGrw"
      },
      "execution_count": null,
      "outputs": []
    },
    {
      "cell_type": "markdown",
      "source": [
        "The main difference between Softmax Regression and Logistic Regression lies in the number of classes they can handle:\n",
        "\n",
        "* Logistic Regression:  It's designed for binary classification problems, meaning it can only predict one of two possible outcomes (e.g., yes/no, spam/not spam).\n",
        "* Softmax Regression: It's an extension of Logistic Regression that can handle multi-class classification problems. This means it can predict one out of multiple possible outcomes (e.g., cat/dog/bird, red/green/blue).\n",
        "\n",
        "Think of it like this:\n",
        "\n",
        "* Logistic Regression: A coin toss - heads or tails.\n",
        "* Softmax Regression: Rolling a die - 1, 2, 3, 4, 5, or 6.\n",
        "\n",
        "While Logistic Regression works well for two-class problems, Softmax Regression is more flexible and powerful for situations with multiple categories."
      ],
      "metadata": {
        "id": "Jv2y6XT9SMDI"
      }
    },
    {
      "cell_type": "code",
      "source": [
        "## QUES 19) How do we choose between One-vs-Rest (OvR) and Softmax for multiclass classification."
      ],
      "metadata": {
        "id": "whp_iTqVSSUQ"
      },
      "execution_count": null,
      "outputs": []
    },
    {
      "cell_type": "markdown",
      "source": [
        "The choice between One-vs-Rest (OvR) and Softmax for multiclass classification depends on a few factors:\n",
        "\n",
        "* Dataset Size: For smaller datasets, Softmax might be computationally less expensive and perform slightly better.\n",
        "* Class Relationships: If the classes are highly related (e.g., different types of fruit), Softmax might capture these relationships better, leading to more accurate predictions.\n",
        "* Computational Resources: OvR is often more computationally expensive than Softmax, especially for large datasets with many classes.\n",
        "\n",
        "Here's a general guideline:\n",
        "\n",
        "* Use Softmax: If you have a moderate-sized dataset and the classes are somewhat related, Softmax is a good choice.\n",
        "* Use OvR: If you have a large dataset with many classes, or if the classes are not highly related, OvR might be a more efficient and practical option.\n",
        "\n",
        "Ultimately, the best choice will depend on your specific dataset and problem. It's recommended to experiment with both methods and evaluate their performance on your data to determine the best approach."
      ],
      "metadata": {
        "id": "6I6RzOgtSZiY"
      }
    },
    {
      "cell_type": "code",
      "source": [
        "## QUES 20) How do we interpret coefficients in Logistic Regression?"
      ],
      "metadata": {
        "id": "p8zZKxypSehn"
      },
      "execution_count": null,
      "outputs": []
    },
    {
      "cell_type": "markdown",
      "source": [
        "In Logistic Regression, coefficients represent the change in the log odds of the outcome for a one-unit increase in the predictor variable, holding all other variables constant.\n",
        "\n",
        "Here's a breakdown:\n",
        "\n",
        "* Log Odds: The log odds is a measure of the probability of the outcome occurring. A higher log odds indicates a higher probability.\n",
        "* Coefficient:  The coefficient tells us how much the log odds change for a one-unit increase in the predictor variable.\n",
        "* Positive Coefficient: A positive coefficient means that increasing the predictor variable increases the log odds of the outcome, making it more likely to occur.\n",
        "* Negative Coefficient: A negative coefficient means that increasing the predictor variable decreases the log odds of the outcome, making it less likely to occur.\n",
        "\n",
        "For example, if the coefficient for \"age\" in a Logistic Regression model predicting the likelihood of a customer making a purchase is 0.2, it means that for every one-year increase in age, the log odds of making a purchase increase by 0.2.\n",
        "\n",
        "To interpret coefficients in a more intuitive way, you can convert them to odds ratios. The odds ratio is calculated by exponentiating the coefficient. An odds ratio of 1 indicates no change in the odds. An odds ratio greater than 1 indicates an increase in the odds, while an odds ratio less than 1 indicates a decrease in the odds.\n",
        "\n",
        "In the example above, the odds ratio for age would be exp(0.2) = 1.22. This means that for every one-year increase in age, the odds of making a purchase increase by 22%.\n",
        "\n",
        "The interpretation of coefficients depends on the specific context of your model and the scaling of your predictor variables."
      ],
      "metadata": {
        "id": "Hr-29ycZSle8"
      }
    },
    {
      "cell_type": "markdown",
      "source": [
        "**PRACTICAL QUESTION**"
      ],
      "metadata": {
        "id": "Dp3ID018SyA2"
      }
    },
    {
      "cell_type": "code",
      "source": [
        "## QUES 1) Write a Python program that loads a dataset, splits it into training and testing sets, applies Logistic\n",
        "# Regression, and prints the model accuracy.\n",
        "# Importing necessary libraries\n",
        "import pandas as pd\n",
        "from sklearn.model_selection import train_test_split\n",
        "from sklearn.linear_model import LogisticRegression\n",
        "from sklearn.metrics import accuracy_score\n",
        "\n",
        "# Load a sample dataset\n",
        "# For this example, we'll use the Iris dataset from sklearn (you can change this to your dataset)\n",
        "from sklearn.datasets import load_iris\n",
        "\n",
        "# Load the Iris dataset\n",
        "data = load_iris()\n",
        "X = data.data  # Features\n",
        "y = data.target  # Target labels\n",
        "\n",
        "# Split the data into training and testing sets\n",
        "X_train, X_test, y_train, y_test = train_test_split(X, y, test_size=0.3, random_state=42)\n",
        "\n",
        "# Initialize the Logistic Regression model\n",
        "model = LogisticRegression(max_iter=200)\n",
        "\n",
        "# Train the model\n",
        "model.fit(X_train, y_train)\n",
        "\n",
        "# Make predictions\n",
        "y_pred = model.predict(X_test)\n",
        "\n",
        "# Calculate and print the accuracy of the model\n",
        "accuracy = accuracy_score(y_test, y_pred)\n",
        "print(f\"Model Accuracy: {accuracy * 100:.2f}%\")\n",
        "\n"
      ],
      "metadata": {
        "colab": {
          "base_uri": "https://localhost:8080/"
        },
        "id": "c6UecFOHS3p3",
        "outputId": "9c4fb43f-28fe-4e69-d539-4fe959403b6f"
      },
      "execution_count": 1,
      "outputs": [
        {
          "output_type": "stream",
          "name": "stdout",
          "text": [
            "Model Accuracy: 100.00%\n"
          ]
        }
      ]
    },
    {
      "cell_type": "code",
      "source": [
        "## QUES 2) Write a Python program to apply L1 regularization (Lasso) on a dataset using LogisticRegression(penalty='l1')\n",
        "# and print the model accuracy.\n",
        "# Import necessary libraries\n",
        "import pandas as pd\n",
        "from sklearn.model_selection import train_test_split\n",
        "from sklearn.linear_model import LogisticRegression\n",
        "from sklearn.metrics import accuracy_score\n",
        "\n",
        "# Load a sample dataset (e.g., Iris dataset)\n",
        "from sklearn.datasets import load_iris\n",
        "\n",
        "# Load the Iris dataset\n",
        "data = load_iris()\n",
        "X = data.data  # Features\n",
        "y = data.target  # Target labels\n",
        "\n",
        "# Split the data into training and testing sets (70% train, 30% test)\n",
        "X_train, X_test, y_train, y_test = train_test_split(X, y, test_size=0.3, random_state=42)\n",
        "\n",
        "# Initialize the Logistic Regression model with L1 regularization (Lasso)\n",
        "# Solver 'liblinear' is often used with L1 penalty\n",
        "model = LogisticRegression(penalty='l1', solver='liblinear', max_iter=200)\n",
        "\n",
        "# Train the model\n",
        "model.fit(X_train, y_train)\n",
        "\n",
        "# Make predictions\n",
        "y_pred = model.predict(X_test)\n",
        "\n",
        "# Calculate and print the accuracy of the model\n",
        "accuracy = accuracy_score(y_test, y_pred)\n",
        "print(f\"Model Accuracy with L1 Regularization (Lasso): {accuracy * 100:.2f}%\")\n",
        "\n"
      ],
      "metadata": {
        "colab": {
          "base_uri": "https://localhost:8080/"
        },
        "id": "KEAnEMfVTNq6",
        "outputId": "89d56623-716b-44c5-ff9e-18ba211e7e83"
      },
      "execution_count": 3,
      "outputs": [
        {
          "output_type": "stream",
          "name": "stdout",
          "text": [
            "Model Accuracy with L1 Regularization (Lasso): 100.00%\n"
          ]
        }
      ]
    },
    {
      "cell_type": "code",
      "source": [
        "## QUES 3) Write a Python program to train Logistic Regression with L2 regularization (Ridge) using\n",
        "# LogisticRegression(penalty='l2'). Print model accuracy and coefficients.\n",
        "# Import necessary libraries\n",
        "import pandas as pd\n",
        "from sklearn.model_selection import train_test_split\n",
        "from sklearn.linear_model import LogisticRegression\n",
        "from sklearn.metrics import accuracy_score\n",
        "\n",
        "# Load a sample dataset (e.g., Iris dataset)\n",
        "from sklearn.datasets import load_iris\n",
        "\n",
        "# Load the Iris dataset\n",
        "data = load_iris()\n",
        "X = data.data  # Features\n",
        "y = data.target  # Target labels\n",
        "\n",
        "# Split the data into training and testing sets (70% train, 30% test)\n",
        "X_train, X_test, y_train, y_test = train_test_split(X, y, test_size=0.3, random_state=42)\n",
        "\n",
        "# Initialize the Logistic Regression model with L2 regularization (Ridge)\n",
        "# Solver 'liblinear' can be used for small datasets, but other solvers like 'lbfgs' work well for larger datasets.\n",
        "model = LogisticRegression(penalty='l2', solver='lbfgs', max_iter=200)\n",
        "\n",
        "# Train the model\n",
        "model.fit(X_train, y_train)\n",
        "\n",
        "# Make predictions\n",
        "y_pred = model.predict(X_test)\n",
        "\n",
        "# Calculate and print the accuracy of the model\n",
        "accuracy = accuracy_score(y_test, y_pred)\n",
        "print(f\"Model Accuracy with L2 Regularization (Ridge): {accuracy * 100:.2f}%\")\n",
        "\n",
        "# Print the model coefficients\n",
        "print(\"Model Coefficients (Weights):\")\n",
        "print(model.coef_)\n"
      ],
      "metadata": {
        "colab": {
          "base_uri": "https://localhost:8080/"
        },
        "id": "9kXZZtAoV276",
        "outputId": "dade7691-b72a-4e35-8397-b4c348c8687d"
      },
      "execution_count": 4,
      "outputs": [
        {
          "output_type": "stream",
          "name": "stdout",
          "text": [
            "Model Accuracy with L2 Regularization (Ridge): 100.00%\n",
            "Model Coefficients (Weights):\n",
            "[[-0.40538561  0.86892188 -2.277875   -0.95680118]\n",
            " [ 0.4664269  -0.37487908 -0.18745251 -0.72127094]\n",
            " [-0.06104129 -0.4940428   2.46532752  1.67807213]]\n"
          ]
        }
      ]
    },
    {
      "cell_type": "code",
      "source": [
        "## QUES 4) Write a Python program to train Logistic Regression with Elastic Net Regularization (penalty='elasticnet').\n",
        "# Import necessary libraries.\n",
        "\n",
        "import pandas as pd\n",
        "from sklearn.model_selection import train_test_split\n",
        "from sklearn.linear_model import LogisticRegression\n",
        "from sklearn.metrics import accuracy_score\n",
        "\n",
        "# Load a sample dataset (e.g., Iris dataset)\n",
        "from sklearn.datasets import load_iris\n",
        "\n",
        "# Load the Iris dataset\n",
        "data = load_iris()\n",
        "X = data.data  # Features\n",
        "y = data.target  # Target labels\n",
        "\n",
        "# Split the data into training and testing sets (70% train, 30% test)\n",
        "X_train, X_test, y_train, y_test = train_test_split(X, y, test_size=0.3, random_state=42)\n",
        "\n",
        "# Initialize the Logistic Regression model with Elastic Net regularization\n",
        "# 'l1_ratio' controls the mixture of L1 and L2 regularization\n",
        "model = LogisticRegression(penalty='elasticnet', solver='saga', l1_ratio=0.5, max_iter=200)\n",
        "\n",
        "# Train the model\n",
        "model.fit(X_train, y_train)\n",
        "\n",
        "# Make predictions\n",
        "y_pred = model.predict(X_test)\n",
        "\n",
        "# Calculate and print the accuracy of the model\n",
        "accuracy = accuracy_score(y_test, y_pred)\n",
        "print(f\"Model Accuracy with Elastic Net Regularization: {accuracy * 100:.2f}%\")\n",
        "\n",
        "# Print the model coefficients\n",
        "print(\"Model Coefficients (Weights):\")\n",
        "print(model.coef_)\n"
      ],
      "metadata": {
        "colab": {
          "base_uri": "https://localhost:8080/"
        },
        "id": "TX8YRZIVV4qh",
        "outputId": "3b786dfa-ab18-4eee-a2a1-0c30b19f6da5"
      },
      "execution_count": 6,
      "outputs": [
        {
          "output_type": "stream",
          "name": "stdout",
          "text": [
            "Model Accuracy with Elastic Net Regularization: 100.00%\n",
            "Model Coefficients (Weights):\n",
            "[[ 0.3864455   1.70810902 -2.35312274 -0.65791595]\n",
            " [ 0.04207566  0.          0.         -0.54134721]\n",
            " [-1.22170419 -1.28921979  2.46893398  1.99007697]]\n"
          ]
        },
        {
          "output_type": "stream",
          "name": "stderr",
          "text": [
            "/usr/local/lib/python3.11/dist-packages/sklearn/linear_model/_sag.py:348: ConvergenceWarning: The max_iter was reached which means the coef_ did not converge\n",
            "  warnings.warn(\n"
          ]
        }
      ]
    },
    {
      "cell_type": "code",
      "source": [
        "## QUES 5) Write a Python program to train a Logistic Regression model for multiclass classification using\n",
        "# multi_class='ovr'.\n",
        "# Import necessary libraries\n",
        "import pandas as pd\n",
        "from sklearn.model_selection import train_test_split\n",
        "from sklearn.linear_model import LogisticRegression\n",
        "from sklearn.metrics import accuracy_score\n",
        "\n",
        "# Load a sample dataset (e.g., Iris dataset)\n",
        "from sklearn.datasets import load_iris\n",
        "\n",
        "# Load the Iris dataset\n",
        "data = load_iris()\n",
        "X = data.data  # Features\n",
        "y = data.target  # Target labels\n",
        "\n",
        "# Split the data into training and testing sets (70% train, 30% test)\n",
        "X_train, X_test, y_train, y_test = train_test_split(X, y, test_size=0.3, random_state=42)\n",
        "\n",
        "# Initialize the Logistic Regression model with the 'ovr' (One-vs-Rest) strategy for multiclass classification\n",
        "model = LogisticRegression(multi_class='ovr', solver='liblinear', max_iter=200)\n",
        "\n",
        "# Train the model\n",
        "model.fit(X_train, y_train)\n",
        "\n",
        "# Make predictions\n",
        "y_pred = model.predict(X_test)\n",
        "\n",
        "# Calcula\n",
        "\n"
      ],
      "metadata": {
        "colab": {
          "base_uri": "https://localhost:8080/"
        },
        "id": "NTIjI-j-WkPM",
        "outputId": "fd1d76a8-567c-43a5-adc9-534e279d3424"
      },
      "execution_count": 7,
      "outputs": [
        {
          "output_type": "stream",
          "name": "stderr",
          "text": [
            "/usr/local/lib/python3.11/dist-packages/sklearn/linear_model/_logistic.py:1256: FutureWarning: 'multi_class' was deprecated in version 1.5 and will be removed in 1.7. Use OneVsRestClassifier(LogisticRegression(..)) instead. Leave it to its default value to avoid this warning.\n",
            "  warnings.warn(\n"
          ]
        }
      ]
    },
    {
      "cell_type": "code",
      "source": [
        "## QUES 6) Write a Python program to apply GridSearchCV to tune the hyperparameters (C and penalty) of Logistic\n",
        "# Regression. Print the best parameters and accuracy.\n",
        "# Import necessary libraries\n",
        "import numpy as np\n",
        "import pandas as pd\n",
        "from sklearn.model_selection import train_test_split, GridSearchCV\n",
        "from sklearn.linear_model import LogisticRegression\n",
        "from sklearn.metrics import accuracy_score\n",
        "from sklearn.datasets import load_iris\n",
        "\n",
        "# Load a sample dataset (Iris dataset)\n",
        "data = load_iris()\n",
        "X = data.data  # Features\n",
        "y = data.target  # Target labels\n",
        "\n",
        "# Split the data into training and testing sets (70% train, 30% test)\n",
        "X_train, X_test, y_train, y_test = train_test_split(X, y, test_size=0.3, random_state=42)\n",
        "\n",
        "# Initialize the Logistic Regression model\n",
        "model = LogisticRegression(max_iter=200)\n",
        "\n",
        "# Define the parameter grid for hyperparameter tuning (C and penalty)\n",
        "param_grid = {\n",
        "    'C': [0.01, 0.1, 1, 10, 100],  # Regularization strength (smaller values mean stronger regularization)\n",
        "    'penalty': ['l1', 'l2']         # Regularization type (L1 or L2)\n",
        "}\n",
        "\n",
        "# Initialize GridSearchCV to search over the defined parameter grid\n",
        "grid_search = GridSearchCV(estimator=model, param_grid=param_grid, cv=5, scoring='accuracy')\n",
        "\n",
        "# Fit the model using GridSearchCV\n",
        "grid_search.fit(X_train, y_train)\n",
        "\n",
        "# Print the best parameters found by GridSearchCV\n",
        "print(f\"Best Parameters: {grid_search.best_params_}\")\n",
        "\n",
        "# Get the best model from the grid search\n",
        "best_model = grid_search.best_estimator_\n",
        "\n",
        "# Make predictions with the best model\n",
        "y_pred = best_model.predict(X_test)\n",
        "\n",
        "# Calculate and print the accuracy of the model\n",
        "accuracy = accuracy_score(y_test, y_pred)\n",
        "print(f\"Model Accuracy with Best Parameters: {accuracy * 100:.2f}%\")\n"
      ],
      "metadata": {
        "colab": {
          "base_uri": "https://localhost:8080/"
        },
        "id": "b5CPgMAmX0qE",
        "outputId": "9bcf38a1-eed9-45e6-889d-7b51881ffe12"
      },
      "execution_count": 8,
      "outputs": [
        {
          "output_type": "stream",
          "name": "stdout",
          "text": [
            "Best Parameters: {'C': 1, 'penalty': 'l2'}\n",
            "Model Accuracy with Best Parameters: 100.00%\n"
          ]
        },
        {
          "output_type": "stream",
          "name": "stderr",
          "text": [
            "/usr/local/lib/python3.11/dist-packages/sklearn/model_selection/_validation.py:528: FitFailedWarning: \n",
            "25 fits failed out of a total of 50.\n",
            "The score on these train-test partitions for these parameters will be set to nan.\n",
            "If these failures are not expected, you can try to debug them by setting error_score='raise'.\n",
            "\n",
            "Below are more details about the failures:\n",
            "--------------------------------------------------------------------------------\n",
            "25 fits failed with the following error:\n",
            "Traceback (most recent call last):\n",
            "  File \"/usr/local/lib/python3.11/dist-packages/sklearn/model_selection/_validation.py\", line 866, in _fit_and_score\n",
            "    estimator.fit(X_train, y_train, **fit_params)\n",
            "  File \"/usr/local/lib/python3.11/dist-packages/sklearn/base.py\", line 1389, in wrapper\n",
            "    return fit_method(estimator, *args, **kwargs)\n",
            "           ^^^^^^^^^^^^^^^^^^^^^^^^^^^^^^^^^^^^^^\n",
            "  File \"/usr/local/lib/python3.11/dist-packages/sklearn/linear_model/_logistic.py\", line 1193, in fit\n",
            "    solver = _check_solver(self.solver, self.penalty, self.dual)\n",
            "             ^^^^^^^^^^^^^^^^^^^^^^^^^^^^^^^^^^^^^^^^^^^^^^^^^^^\n",
            "  File \"/usr/local/lib/python3.11/dist-packages/sklearn/linear_model/_logistic.py\", line 63, in _check_solver\n",
            "    raise ValueError(\n",
            "ValueError: Solver lbfgs supports only 'l2' or None penalties, got l1 penalty.\n",
            "\n",
            "  warnings.warn(some_fits_failed_message, FitFailedWarning)\n",
            "/usr/local/lib/python3.11/dist-packages/sklearn/model_selection/_search.py:1108: UserWarning: One or more of the test scores are non-finite: [       nan 0.86666667        nan 0.93333333        nan 0.96190476\n",
            "        nan 0.94285714        nan 0.95238095]\n",
            "  warnings.warn(\n"
          ]
        }
      ]
    },
    {
      "cell_type": "code",
      "source": [
        "## QUES 7) Write a Python program to evaluate Logistic Regression using Stratified K-Fold Cross-Validation. Print the\n",
        "# average accuracy.\n",
        "# Import necessary libraries\n",
        "import numpy as np\n",
        "import pandas as pd\n",
        "from sklearn.model_selection import StratifiedKFold\n",
        "from sklearn.linear_model import LogisticRegression\n",
        "from sklearn.metrics import accuracy_score\n",
        "from sklearn.datasets import load_iris\n",
        "\n",
        "# Load a sample dataset (Iris dataset)\n",
        "data = load_iris()\n",
        "X = data.data  # Features\n",
        "y = data.target  # Target labels\n",
        "\n",
        "# Initialize the Logistic Regression model\n",
        "model = LogisticRegression(max_iter=200)\n",
        "\n",
        "# Initialize StratifiedKFold (5 folds)\n",
        "skf = StratifiedKFold(n_splits=5, shuffle=True, random_state=42)\n",
        "\n",
        "# List to store accuracy scores for each fold\n",
        "accuracy_scores = []\n",
        "\n",
        "# Perform Stratified K-Fold Cross-Validation\n",
        "for train_index, test_index in skf.split(X, y):\n",
        "    # Split the data into training and testing sets for each fold\n",
        "    X_train, X_test = X[train_index], X[test_index]\n",
        "    y_train, y_test = y[train_index], y[test_index]\n",
        "\n",
        "    # Train the model\n",
        "    model.fit(X_train, y_train)\n",
        "\n",
        "    # Make predictions\n",
        "    y_pred = model.predict(X_test)\n",
        "\n",
        "    # Calculate the accuracy for the current fold\n",
        "    accuracy = accuracy_score(y_test, y_pred)\n",
        "\n",
        "    # Append the accuracy score to the list\n",
        "    accuracy_scores.append(accuracy)\n",
        "\n",
        "# Calculate and print the average accuracy\n",
        "average_accuracy = np.mean(accuracy_scores)\n",
        "print(f\"Average Accuracy with Stratified K-Fold Cross-Validation: {average_accuracy * 100:.2f}%\")\n"
      ],
      "metadata": {
        "colab": {
          "base_uri": "https://localhost:8080/"
        },
        "id": "hdrYQpUCYSJE",
        "outputId": "1ee0d768-cb64-4b0e-90c2-a064568d3783"
      },
      "execution_count": 9,
      "outputs": [
        {
          "output_type": "stream",
          "name": "stdout",
          "text": [
            "Average Accuracy with Stratified K-Fold Cross-Validation: 96.67%\n"
          ]
        }
      ]
    },
    {
      "cell_type": "code",
      "source": [
        "## QUES 8) Write a Python program to load a dataset from a CSV file, apply Logistic Regression, and evaluate its\n",
        "# accuracy.\n",
        "# Step 1: Install necessary libraries (if not already installed)\n",
        "# In Google Colab, scikit-learn is pre-installed, so this step is optional.\n",
        "# !pip install pandas scikit-learn\n",
        "\n",
        "# Step 2: Import required libraries\n",
        "import pandas as pd\n",
        "from sklearn.datasets import load_iris\n",
        "from sklearn.model_selection import train_test_split\n",
        "from sklearn.linear_model import LogisticRegression\n",
        "from sklearn.metrics import accuracy_score\n",
        "\n",
        "# Step 3: Load the Iris dataset\n",
        "iris = load_iris()\n",
        "\n",
        "# Convert the dataset into a pandas DataFrame for better visualization\n",
        "data = pd.DataFrame(iris.data, columns=iris.feature_names)\n",
        "data['target'] = iris.target\n",
        "\n",
        "# Display the first few rows of the dataset\n",
        "print(\"First 5 rows of the dataset:\")\n",
        "print(data.head())\n",
        "\n",
        "# Step 4: Prepare the data\n",
        "X = data.iloc[:, :-1]  # Features (all columns except the last one)\n",
        "y = data.iloc[:, -1]   # Target variable (the last column)\n",
        "\n",
        "# Step 5: Split the data into training and testing sets\n",
        "X_train, X_test, y_train, y_test = train_test_split(X, y, test_size=0.2, random_state=42)\n",
        "\n",
        "# Step 6: Initialize and train the Logistic Regression model\n",
        "model = LogisticRegression(max_iter=200)  # Increase max_iter for convergence\n",
        "model.fit(X_train, y_train)\n",
        "\n",
        "# Step 7: Make predictions on the test set\n",
        "y_pred = model.predict(X_test)\n",
        "\n",
        "# Step 8: Evaluate the model's accuracy\n",
        "accuracy = accuracy_score(y_test, y_pred)\n",
        "print(f'Accuracy of the Logistic Regression model: {accuracy:.2f}')\n",
        "\n"
      ],
      "metadata": {
        "colab": {
          "base_uri": "https://localhost:8080/"
        },
        "id": "BVw_XTnsYvEm",
        "outputId": "06e68ae9-84e5-41f0-e6cb-f30153b2dbe7"
      },
      "execution_count": 39,
      "outputs": [
        {
          "output_type": "stream",
          "name": "stdout",
          "text": [
            "First 5 rows of the dataset:\n",
            "   sepal length (cm)  sepal width (cm)  petal length (cm)  petal width (cm)  \\\n",
            "0                5.1               3.5                1.4               0.2   \n",
            "1                4.9               3.0                1.4               0.2   \n",
            "2                4.7               3.2                1.3               0.2   \n",
            "3                4.6               3.1                1.5               0.2   \n",
            "4                5.0               3.6                1.4               0.2   \n",
            "\n",
            "   target  \n",
            "0       0  \n",
            "1       0  \n",
            "2       0  \n",
            "3       0  \n",
            "4       0  \n",
            "Accuracy of the Logistic Regression model: 1.00\n"
          ]
        }
      ]
    },
    {
      "cell_type": "code",
      "source": [
        "## QUES 9) Write a Python program to apply RandomizedSearchCV for tuning hyperparameters (C, penalty, solver) in\n",
        "# Logistic Regression. Print the best parameters and accuracy.\n",
        "# Import necessary libraries\n",
        "import numpy as np\n",
        "import pandas as pd\n",
        "from sklearn.model_selection import train_test_split, RandomizedSearchCV\n",
        "from sklearn.linear_model import LogisticRegression\n",
        "from sklearn.metrics import accuracy_score\n",
        "from sklearn.datasets import load_iris\n",
        "from scipy.stats import uniform, loguniform\n",
        "\n",
        "# Load a sample dataset (Iris dataset)\n",
        "data = load_iris()\n",
        "X = data.data  # Features\n",
        "y = data.target  # Target labels\n",
        "\n",
        "# Split the data into training and testing sets (70% train, 30% test)\n",
        "X_train, X_test, y_train, y_test = train_test_split(X, y, test_size=0.3, random_state=42)\n",
        "\n",
        "# Initialize the Logistic Regression model\n",
        "model = LogisticRegression(max_iter=200)\n",
        "\n",
        "# Define the parameter distribution for RandomizedSearchCV\n",
        "param_dist = {\n",
        "    'C': loguniform(1e-5, 100),  # Regularization strength: values between 1e-5 and 100\n",
        "    'penalty': ['l1', 'l2'],  # Type of regularization\n",
        "    'solver': ['liblinear', 'saga', 'lbfgs']  # Solvers for logistic regression\n",
        "}\n",
        "\n",
        "# Initialize RandomizedSearchCV to search the parameter space\n",
        "random_search = RandomizedSearchCV(estimator=model, param_distributions=param_dist,\n",
        "                                   n_iter=100, cv=5, random_state=42, n_jobs=-1, scoring='accuracy')\n",
        "\n",
        "# Fit the RandomizedSearchCV model\n",
        "random_search.fit(X_train, y_train)\n",
        "\n",
        "# Print the best parameters found by RandomizedSearchCV\n",
        "print(f\"Best Parameters: {random_search.best_params_}\")\n",
        "\n",
        "# Get the best model from the random search\n",
        "best_model = random_search.best_estimator_\n",
        "\n",
        "# Make predictions using the best model\n",
        "y_pred = best_model.predict(X_test)\n",
        "\n",
        "# Calculate the accuracy of the best model\n",
        "accuracy = accuracy_score(y_test, y_pred)\n",
        "print(f\"Model Accuracy with Best Parameters: {accuracy * 100:.2f}%\")\n"
      ],
      "metadata": {
        "colab": {
          "base_uri": "https://localhost:8080/"
        },
        "id": "ze_MVTCAZBSF",
        "outputId": "bb24684c-dc25-46cd-d571-fb76fd03959d"
      },
      "execution_count": 17,
      "outputs": [
        {
          "output_type": "stream",
          "name": "stdout",
          "text": [
            "Best Parameters: {'C': 0.4410749400409236, 'penalty': 'l1', 'solver': 'saga'}\n",
            "Model Accuracy with Best Parameters: 100.00%\n"
          ]
        },
        {
          "output_type": "stream",
          "name": "stderr",
          "text": [
            "/usr/local/lib/python3.11/dist-packages/sklearn/model_selection/_validation.py:528: FitFailedWarning: \n",
            "100 fits failed out of a total of 500.\n",
            "The score on these train-test partitions for these parameters will be set to nan.\n",
            "If these failures are not expected, you can try to debug them by setting error_score='raise'.\n",
            "\n",
            "Below are more details about the failures:\n",
            "--------------------------------------------------------------------------------\n",
            "100 fits failed with the following error:\n",
            "Traceback (most recent call last):\n",
            "  File \"/usr/local/lib/python3.11/dist-packages/sklearn/model_selection/_validation.py\", line 866, in _fit_and_score\n",
            "    estimator.fit(X_train, y_train, **fit_params)\n",
            "  File \"/usr/local/lib/python3.11/dist-packages/sklearn/base.py\", line 1389, in wrapper\n",
            "    return fit_method(estimator, *args, **kwargs)\n",
            "           ^^^^^^^^^^^^^^^^^^^^^^^^^^^^^^^^^^^^^^\n",
            "  File \"/usr/local/lib/python3.11/dist-packages/sklearn/linear_model/_logistic.py\", line 1193, in fit\n",
            "    solver = _check_solver(self.solver, self.penalty, self.dual)\n",
            "             ^^^^^^^^^^^^^^^^^^^^^^^^^^^^^^^^^^^^^^^^^^^^^^^^^^^\n",
            "  File \"/usr/local/lib/python3.11/dist-packages/sklearn/linear_model/_logistic.py\", line 63, in _check_solver\n",
            "    raise ValueError(\n",
            "ValueError: Solver lbfgs supports only 'l2' or None penalties, got l1 penalty.\n",
            "\n",
            "  warnings.warn(some_fits_failed_message, FitFailedWarning)\n",
            "/usr/local/lib/python3.11/dist-packages/sklearn/model_selection/_search.py:1108: UserWarning: One or more of the test scores are non-finite: [       nan 0.93333333        nan 0.35238095 0.94285714 0.33333333\n",
            " 0.35238095 0.96190476 0.2952381  0.8952381  0.36190476 0.33333333\n",
            " 0.2952381         nan 0.36190476 0.96190476 0.96190476 0.35238095\n",
            " 0.94285714 0.96190476 0.81904762 0.85714286        nan 0.96190476\n",
            " 0.82857143 0.97142857 0.34285714 0.35238095 0.34285714 0.95238095\n",
            " 0.2952381  0.2952381  0.96190476        nan 0.94285714 0.94285714\n",
            " 0.96190476        nan        nan 0.93333333 0.66666667 0.94285714\n",
            "        nan 0.2952381  0.97142857        nan 0.95238095 0.66666667\n",
            "        nan 0.94285714        nan 0.34285714 0.93333333 0.96190476\n",
            " 0.96190476        nan 0.95238095 0.86666667 0.96190476 0.83809524\n",
            " 0.35238095        nan 0.35238095 0.64761905 0.47619048 0.95238095\n",
            " 0.35238095 0.54285714 0.2952381         nan 0.97142857 0.95238095\n",
            "        nan 0.35238095 0.97142857 0.68571429 0.33333333        nan\n",
            " 0.44761905 0.94285714        nan        nan 0.32380952 0.96190476\n",
            " 0.4952381  0.95238095 0.48571429        nan        nan 0.96190476\n",
            " 0.95238095 0.86666667 0.34285714 0.35238095 0.98095238 0.35238095\n",
            " 0.94285714 0.2952381  0.9047619  0.94285714]\n",
            "  warnings.warn(\n",
            "/usr/local/lib/python3.11/dist-packages/sklearn/linear_model/_sag.py:348: ConvergenceWarning: The max_iter was reached which means the coef_ did not converge\n",
            "  warnings.warn(\n"
          ]
        }
      ]
    },
    {
      "cell_type": "code",
      "source": [
        "## QUES 10) Write a Python program to implement One-vs-One (OvO) Multiclass Logistic Regression and print accuracy.\n",
        "import numpy as np\n",
        "from sklearn.linear_model import LogisticRegression\n",
        "from sklearn.multiclass import OneVsOneClassifier\n",
        "from sklearn.model_selection import train_test_split\n",
        "from sklearn.metrics import accuracy_score\n",
        "\n",
        "# Generate synthetic data\n",
        "np.random.seed(42)\n",
        "X = np.random.rand(100, 5)  # 100 samples, 5 features\n",
        "y = np.random.randint(0, 3, 100)  # 100 samples, 3 classes (0, 1, 2)\n",
        "\n",
        "# Split the data into training and testing sets\n",
        "X_train, X_test, y_train, y_test = train_test_split(X, y, test_size=0.2, random_state=42)\n",
        "\n",
        "# Create One-vs-One (OvO) Multiclass Logistic Regression\n",
        "ovo = OneVsOneClassifier(LogisticRegression())\n",
        "\n",
        "# Fit the model on the training data\n",
        "ovo.fit(X_train, y_train)\n",
        "\n",
        "# Predict on the test data\n",
        "y_pred = ovo.predict(X_test)\n",
        "\n",
        "# Calculate the accuracy\n",
        "accuracy = accuracy_score(y_test, y_pred)\n",
        "print(f'Accuracy: {accuracy}')"
      ],
      "metadata": {
        "colab": {
          "base_uri": "https://localhost:8080/"
        },
        "id": "LnJKRfgUcYl_",
        "outputId": "690f71ca-72b5-4d52-9926-86e85f13bc86"
      },
      "execution_count": 18,
      "outputs": [
        {
          "output_type": "stream",
          "name": "stdout",
          "text": [
            "Accuracy: 0.55\n"
          ]
        }
      ]
    },
    {
      "cell_type": "code",
      "source": [
        "## QUES 11) Write a Python program to train a Logistic Regression model and visualize the confusion matrix for binary\n",
        "# classification.\n",
        "import numpy as np\n",
        "import matplotlib.pyplot as plt\n",
        "from sklearn.linear_model import LogisticRegression\n",
        "from sklearn.model_selection import train_test_split\n",
        "from sklearn.metrics import confusion_matrix, ConfusionMatrixDisplay\n",
        "\n",
        "# Generate synthetic binary classification data\n",
        "np.random.seed(42)\n",
        "X = np.random.rand(100, 5)  # 100 samples, 5 features\n",
        "y = np.random.randint(0, 2, 100)  # 100 samples, 2 classes (0, 1)\n",
        "\n",
        "# Split the data into training and testing sets\n",
        "X_train, X_test, y_train, y_test = train_test_split(X, y, test_size=0.2, random_state=42)\n",
        "\n",
        "# Train a Logistic Regression model\n",
        "model = LogisticRegression()\n",
        "model.fit(X_train, y_train)\n",
        "\n",
        "# Predict on the test data\n",
        "y_pred = model.predict(X_test)\n",
        "\n",
        "# Calculate the confusion matrix\n",
        "cm = confusion_matrix(y_test, y_pred)\n",
        "\n",
        "# Visualize the confusion matrix\n",
        "disp = ConfusionMatrixDisplay(confusion_matrix=cm, display_labels=model.classes_)\n",
        "disp.plot(cmap=plt.cm.Blues)\n",
        "plt.title('Confusion Matrix')\n",
        "plt.show()"
      ],
      "metadata": {
        "colab": {
          "base_uri": "https://localhost:8080/",
          "height": 472
        },
        "id": "jKaSGsBrc25i",
        "outputId": "5ab44039-4abc-4272-cdbb-f8ed9821d607"
      },
      "execution_count": 19,
      "outputs": [
        {
          "output_type": "display_data",
          "data": {
            "text/plain": [
              "<Figure size 640x480 with 2 Axes>"
            ],
            "image/png": "[encoded data removed]"
          },
          "metadata": {}
        }
      ]
    },
    {
      "cell_type": "code",
      "source": [
        "## QUES 12) Write a Python program to train a Logistic Regression model and evaluate its performance using Precision,\n",
        "# Recall, and F1-Score.\n",
        "import numpy as np\n",
        "from sklearn.linear_model import LogisticRegression\n",
        "from sklearn.model_selection import train_test_split\n",
        "from sklearn.metrics import precision_score, recall_score, f1_score\n",
        "\n",
        "# Generate synthetic binary classification data\n",
        "np.random.seed(42)\n",
        "X = np.random.rand(100, 5)  # 100 samples, 5 features\n",
        "y = np.random.randint(0, 2, 100)  # 100 samples, 2 classes (0, 1)\n",
        "\n",
        "# Split the data into training and testing sets\n",
        "X_train, X_test, y_train, y_test = train_test_split(X, y, test_size=0.2, random_state=42)\n",
        "\n",
        "# Train a Logistic Regression model\n",
        "model = LogisticRegression()\n",
        "model.fit(X_train, y_train)\n",
        "\n",
        "# Predict on the test data\n",
        "y_pred = model.predict(X_test)\n",
        "\n",
        "# Calculate Precision, Recall, and F1-Score\n",
        "precision = precision_score(y_test, y_pred)\n",
        "recall = recall_score(y_test, y_pred)\n",
        "f1 = f1_score(y_test, y_pred)\n",
        "\n",
        "# Print the evaluation metrics\n",
        "print(f'Precision: {precision}')\n",
        "print(f'Recall: {recall}')\n",
        "print(f'F1-Score: {f1}')"
      ],
      "metadata": {
        "colab": {
          "base_uri": "https://localhost:8080/"
        },
        "id": "SmiLvvwTdFNn",
        "outputId": "ba1d923a-a1ad-46de-eb10-5449ab51b6aa"
      },
      "execution_count": 20,
      "outputs": [
        {
          "output_type": "stream",
          "name": "stdout",
          "text": [
            "Precision: 0.0\n",
            "Recall: 0.0\n",
            "F1-Score: 0.0\n"
          ]
        },
        {
          "output_type": "stream",
          "name": "stderr",
          "text": [
            "/usr/local/lib/python3.11/dist-packages/sklearn/metrics/_classification.py:1565: UndefinedMetricWarning: Precision is ill-defined and being set to 0.0 due to no predicted samples. Use `zero_division` parameter to control this behavior.\n",
            "  _warn_prf(average, modifier, f\"{metric.capitalize()} is\", len(result))\n"
          ]
        }
      ]
    },
    {
      "cell_type": "code",
      "source": [
        "## QUES 13) Write a Python program to train a Logistic Regression model on imbalanced data and apply class weights to\n",
        "# improve model performance.\n",
        "import numpy as np\n",
        "from sklearn.linear_model import LogisticRegression\n",
        "from sklearn.model_selection import train_test_split\n",
        "from sklearn.metrics import precision_score, recall_score, f1_score, accuracy_score\n",
        "\n",
        "# Generate synthetic imbalanced binary classification data\n",
        "np.random.seed(42)\n",
        "X = np.random.rand(1000, 5)  # 1000 samples, 5 features\n",
        "y = np.random.choice([0, 1], size=1000, p=[0.9, 0.1])  # 1000 samples, imbalanced classes (90% of class 0, 10% of class 1)\n",
        "\n",
        "# Split the data into training and testing sets\n",
        "X_train, X_test, y_train, y_test = train_test_split(X, y, test_size=0.2, random_state=42)\n",
        "\n",
        "# Train a Logistic Regression model with class weights\n",
        "model = LogisticRegression(class_weight='balanced')\n",
        "model.fit(X_train, y_train)\n",
        "\n",
        "# Predict on the test data\n",
        "y_pred = model.predict(X_test)\n",
        "\n",
        "# Calculate evaluation metrics\n",
        "accuracy = accuracy_score(y_test, y_pred)\n",
        "precision = precision_score(y_test, y_pred)\n",
        "recall = recall_score(y_test, y_pred)\n",
        "f1 = f1_score(y_test, y_pred)\n",
        "\n",
        "# Print the evaluation metrics\n",
        "print(f'Accuracy: {accuracy}')\n",
        "print(f'Precision: {precision}')\n",
        "print(f'Recall: {recall}')\n",
        "print(f'F1-Score: {f1}')"
      ],
      "metadata": {
        "colab": {
          "base_uri": "https://localhost:8080/"
        },
        "id": "onfyzllbdTcT",
        "outputId": "de78fb34-f02e-4f1b-ceda-a4b322f0bf3e"
      },
      "execution_count": 21,
      "outputs": [
        {
          "output_type": "stream",
          "name": "stdout",
          "text": [
            "Accuracy: 0.545\n",
            "Precision: 0.07954545454545454\n",
            "Recall: 0.4117647058823529\n",
            "F1-Score: 0.13333333333333333\n"
          ]
        }
      ]
    },
    {
      "cell_type": "code",
      "source": [
        "## QUES 14) Write a Python program to train Logistic Regression on the Titanic dataset, handle missing values, and\n",
        "# evaluate performance.\n",
        "import pandas as pd\n",
        "import numpy as np\n",
        "import seaborn as sns\n",
        "import matplotlib.pyplot as plt\n",
        "from sklearn.model_selection import train_test_split\n",
        "from sklearn.preprocessing import StandardScaler\n",
        "from sklearn.impute import SimpleImputer\n",
        "from sklearn.linear_model import LogisticRegression\n",
        "from sklearn.metrics import accuracy_score, precision_score, recall_score, f1_score, confusion_matrix\n",
        "\n",
        "# Load the Titanic dataset\n",
        "df = sns.load_dataset(\"titanic\")\n",
        "\n",
        "# Select relevant features\n",
        "features = [\"sex\", \"age\", \"fare\", \"class\", \"sibsp\", \"parch\", \"embark_town\"]\n",
        "X = df[features]\n",
        "y = df[\"survived\"]\n",
        "\n",
        "# Handle missing values\n",
        "imputer = SimpleImputer(strategy=\"mean\")\n",
        "X[\"age\"] = imputer.fit_transform(X[[\"age\"]])\n",
        "X[\"fare\"] = imputer.fit_transform(X[[\"fare\"]])\n",
        "X[\"embark_town\"].fillna(X[\"embark_town\"].mode()[0], inplace=True)\n",
        "\n",
        "# Convert categorical features into numerical ones\n",
        "X = pd.get_dummies(X, drop_first=True)\n",
        "\n",
        "# Split dataset into training and testing sets\n",
        "X_train, X_test, y_train, y_test = train_test_split(X, y, test_size=0.2, random_state=42)\n",
        "\n",
        "# Scale features\n",
        "scaler = StandardScaler()\n",
        "X_train = scaler.fit_transform(X_train)\n",
        "X_test = scaler.transform(X_test)\n",
        "\n",
        "# Train Logistic Regression model\n",
        "model = LogisticRegression()\n",
        "model.fit(X_train, y_train)\n",
        "\n",
        "# Predict on test data\n",
        "y_pred = model.predict(X_test)\n",
        "\n",
        "# Evaluate model performance\n",
        "accuracy = accuracy_score(y_test, y_pred)\n",
        "precision = precision_score(y_test, y_pred)\n",
        "recall = recall_score(y_test, y_pred)\n",
        "f1 = f1_score(y_test, y_pred)\n",
        "conf_matrix = confusion_matrix(y_test, y_pred)\n",
        "\n",
        "# Print evaluation metrics\n",
        "print(f\"Accuracy: {accuracy:.4f}\")\n",
        "print(f\"Precision: {precision:.4f}\")\n",
        "print(f\"Recall: {recall:.4f}\")\n",
        "print(f\"F1 Score: {f1:.4f}\")\n",
        "print(\"Confusion Matrix:\")\n",
        "print(conf_matrix)"
      ],
      "metadata": {
        "colab": {
          "base_uri": "https://localhost:8080/"
        },
        "id": "2PVtiP6SdfiZ",
        "outputId": "8854b199-ad85-4cae-d10e-0307c5063805"
      },
      "execution_count": 22,
      "outputs": [
        {
          "output_type": "stream",
          "name": "stdout",
          "text": [
            "Accuracy: 0.7989\n",
            "Precision: 0.7794\n",
            "Recall: 0.7162\n",
            "F1 Score: 0.7465\n",
            "Confusion Matrix:\n",
            "[[90 15]\n",
            " [21 53]]\n"
          ]
        },
        {
          "output_type": "stream",
          "name": "stderr",
          "text": [
            "<ipython-input-22-a5179573d9ab>:23: SettingWithCopyWarning: \n",
            "A value is trying to be set on a copy of a slice from a DataFrame.\n",
            "Try using .loc[row_indexer,col_indexer] = value instead\n",
            "\n",
            "See the caveats in the documentation: https://pandas.pydata.org/pandas-docs/stable/user_guide/indexing.html#returning-a-view-versus-a-copy\n",
            "  X[\"age\"] = imputer.fit_transform(X[[\"age\"]])\n",
            "<ipython-input-22-a5179573d9ab>:24: SettingWithCopyWarning: \n",
            "A value is trying to be set on a copy of a slice from a DataFrame.\n",
            "Try using .loc[row_indexer,col_indexer] = value instead\n",
            "\n",
            "See the caveats in the documentation: https://pandas.pydata.org/pandas-docs/stable/user_guide/indexing.html#returning-a-view-versus-a-copy\n",
            "  X[\"fare\"] = imputer.fit_transform(X[[\"fare\"]])\n",
            "<ipython-input-22-a5179573d9ab>:25: FutureWarning: A value is trying to be set on a copy of a DataFrame or Series through chained assignment using an inplace method.\n",
            "The behavior will change in pandas 3.0. This inplace method will never work because the intermediate object on which we are setting values always behaves as a copy.\n",
            "\n",
            "For example, when doing 'df[col].method(value, inplace=True)', try using 'df.method({col: value}, inplace=True)' or df[col] = df[col].method(value) instead, to perform the operation inplace on the original object.\n",
            "\n",
            "\n",
            "  X[\"embark_town\"].fillna(X[\"embark_town\"].mode()[0], inplace=True)\n",
            "<ipython-input-22-a5179573d9ab>:25: SettingWithCopyWarning: \n",
            "A value is trying to be set on a copy of a slice from a DataFrame\n",
            "\n",
            "See the caveats in the documentation: https://pandas.pydata.org/pandas-docs/stable/user_guide/indexing.html#returning-a-view-versus-a-copy\n",
            "  X[\"embark_town\"].fillna(X[\"embark_town\"].mode()[0], inplace=True)\n"
          ]
        }
      ]
    },
    {
      "cell_type": "code",
      "source": [
        "## QUES 15) Write a Python program to apply feature scaling (Standardization) before training a Logistic Regression\n",
        "# model. Evaluate its accuracy and compare results with and without scaling.\n",
        "import numpy as np\n",
        "import pandas as pd\n",
        "import matplotlib.pyplot as plt\n",
        "from sklearn.model_selection import train_test_split\n",
        "from sklearn.preprocessing import StandardScaler\n",
        "from sklearn.linear_model import LogisticRegression\n",
        "from sklearn.metrics import accuracy_score\n",
        "from sklearn.datasets import make_classification\n",
        "\n",
        "# Generate a synthetic dataset\n",
        "X, y = make_classification(n_samples=1000, n_features=10, random_state=42)\n",
        "\n",
        "# Split data into training and testing sets\n",
        "X_train, X_test, y_train, y_test = train_test_split(X, y, test_size=0.2, random_state=42)\n",
        "\n",
        "# Train logistic regression without scaling\n",
        "model_no_scaling = LogisticRegression(max_iter=500, random_state=42)\n",
        "model_no_scaling.fit(X_train, y_train)\n",
        "y_pred_no_scaling = model_no_scaling.predict(X_test)\n",
        "accuracy_no_scaling = accuracy_score(y_test, y_pred_no_scaling)\n",
        "\n",
        "# Standardize the features\n",
        "scaler = StandardScaler()\n",
        "X_train_scaled = scaler.fit_transform(X_train)\n",
        "X_test_scaled = scaler.transform(X_test)\n",
        "\n",
        "# Train logistic regression with scaling\n",
        "model_with_scaling = LogisticRegression(max_iter=500, random_state=42)\n",
        "model_with_scaling.fit(X_train_scaled, y_train)\n",
        "y_pred_with_scaling = model_with_scaling.predict(X_test_scaled)\n",
        "accuracy_with_scaling = accuracy_score(y_test, y_pred_with_scaling)\n",
        "\n",
        "# Print accuracy results\n",
        "print(f'Accuracy without Scaling: {accuracy_no_scaling:.4f}')\n",
        "print(f'Accuracy with Scaling: {accuracy_with_scaling:.4f}')\n",
        "\n",
        "# Plot accuracy comparison\n",
        "plt.figure(figsize=(8, 6))\n",
        "plt.bar(['Without Scaling', 'With Scaling'], [accuracy_no_scaling, accuracy_with_scaling], color=['red', 'blue'])\n",
        "plt.xlabel('Feature Scaling')\n",
        "plt.ylabel('Accuracy')\n",
        "plt.title('Impact of Feature Scaling on Logistic Regression')\n",
        "plt.show()\n",
        "\n"
      ],
      "metadata": {
        "colab": {
          "base_uri": "https://localhost:8080/",
          "height": 600
        },
        "id": "fGpmesNqdrjr",
        "outputId": "3e2f4b14-93f4-4738-a8c6-c0d3295b7bf6"
      },
      "execution_count": 35,
      "outputs": [
        {
          "output_type": "stream",
          "name": "stdout",
          "text": [
            "Accuracy without Scaling: 0.8300\n",
            "Accuracy with Scaling: 0.8300\n"
          ]
        },
        {
          "output_type": "display_data",
          "data": {
            "text/plain": [
              "<Figure size 800x600 with 1 Axes>"
            ],
            "image/png": "[encoded data removed]"
          },
          "metadata": {}
        }
      ]
    },
    {
      "cell_type": "code",
      "source": [
        "## QUES 16) Write a Python program to train Logistic Regression and evaluate its performance using ROC-AUC score.\n",
        "import numpy as np\n",
        "import pandas as pd\n",
        "import matplotlib.pyplot as plt\n",
        "from sklearn.model_selection import train_test_split\n",
        "from sklearn.preprocessing import StandardScaler\n",
        "from sklearn.linear_model import LogisticRegression\n",
        "from sklearn.metrics import roc_curve, auc, roc_auc_score\n",
        "from sklearn.datasets import make_classification\n",
        "\n",
        "# Generate a synthetic dataset\n",
        "X, y = make_classification(n_samples=1000, n_features=10, random_state=42)\n",
        "\n",
        "# Split data into training and testing sets\n",
        "X_train, X_test, y_train, y_test = train_test_split(X, y, test_size=0.2, random_state=42)\n",
        "\n",
        "# Standardize the features\n",
        "scaler = StandardScaler()\n",
        "X_train = scaler.fit_transform(X_train)\n",
        "X_test = scaler.transform(X_test)\n",
        "\n",
        "# Train logistic regression model\n",
        "model = LogisticRegression()\n",
        "model.fit(X_train, y_train)\n",
        "\n",
        "# Get probability predictions\n",
        "y_scores = model.predict_proba(X_test)[:, 1]\n",
        "\n",
        "# Compute ROC curve and AUC\n",
        "fpr, tpr, _ = roc_curve(y_test, y_scores)\n",
        "roc_auc = roc_auc_score(y_test, y_scores)\n",
        "\n",
        "# Plot ROC curve\n",
        "plt.figure(figsize=(8, 6))\n",
        "plt.plot(fpr, tpr, color='blue', label=f'ROC AUC = {roc_auc:.4f}')\n",
        "plt.plot([0, 1], [0, 1], linestyle='--', color='gray')\n",
        "plt.xlabel('False Positive Rate')\n",
        "plt.ylabel('True Positive Rate')\n",
        "plt.title('ROC Curve for Logistic Regression')\n",
        "plt.legend()\n",
        "plt.grid()\n",
        "plt.show()"
      ],
      "metadata": {
        "colab": {
          "base_uri": "https://localhost:8080/",
          "height": 564
        },
        "id": "YweouvNoeMie",
        "outputId": "251a05ce-d71b-4110-c61b-ae1fbdf8fad2"
      },
      "execution_count": 33,
      "outputs": [
        {
          "output_type": "display_data",
          "data": {
            "text/plain": [
              "<Figure size 800x600 with 1 Axes>"
            ],
            "image/png": "[encoded data removed]"
          },
          "metadata": {}
        }
      ]
    },
    {
      "cell_type": "code",
      "source": [
        "## QUES 17) Write a Python program to train Logistic Regression using a custom learning rate (C=0.5) and evaluate\n",
        "# accuracy.\n",
        "# Import necessary libraries\n",
        "import numpy as np\n",
        "import pandas as pd\n",
        "from sklearn.model_selection import train_test_split\n",
        "from sklearn.linear_model import LogisticRegression\n",
        "from sklearn.metrics import accuracy_score\n",
        "from sklearn.datasets import load_iris\n",
        "\n",
        "# Load a sample dataset (Iris dataset)\n",
        "data = load_iris()\n",
        "X = data.data  # Features\n",
        "y = data.target  # Target labels\n",
        "\n",
        "# Split the data into training and testing sets (70% train, 30% test)\n",
        "X_train, X_test, y_train, y_test = train_test_split(X, y, test_size=0.3, random_state=42)\n",
        "\n",
        "# Initialize the Logistic Regression model with a custom C value (C=0.5)\n",
        "# C controls regularization strength: smaller C -> stronger regularization\n",
        "model = LogisticRegression(C=0.5, max_iter=200)\n",
        "\n",
        "# Train the model\n",
        "model.fit(X_train, y_train)\n",
        "\n",
        "# Make predictions\n",
        "y_pred = model.predict(X_test)\n",
        "\n",
        "# Calculate the accuracy of the model\n",
        "accuracy = accuracy_score(y_test, y_pred)\n",
        "print(f\"Model Accuracy with C=0.5: {accuracy * 100:.2f}%\")\n"
      ],
      "metadata": {
        "colab": {
          "base_uri": "https://localhost:8080/"
        },
        "id": "Cup9PytieaR0",
        "outputId": "39a81372-df2d-497c-d860-ce67304c4ec2"
      },
      "execution_count": 24,
      "outputs": [
        {
          "output_type": "stream",
          "name": "stdout",
          "text": [
            "Model Accuracy with C=0.5: 100.00%\n"
          ]
        }
      ]
    },
    {
      "cell_type": "code",
      "source": [
        "## QUES 18) Write a Python program to train Logistic Regression and identify important features based on model\n",
        "# coefficients.\n",
        "# Import necessary libraries\n",
        "import numpy as np\n",
        "import pandas as pd\n",
        "from sklearn.model_selection import train_test_split\n",
        "from sklearn.linear_model import LogisticRegression\n",
        "from sklearn.metrics import accuracy_score\n",
        "from sklearn.datasets import load_iris\n",
        "\n",
        "# Load a sample dataset (Iris dataset)\n",
        "data = load_iris()\n",
        "X = data.data  # Features\n",
        "y = data.target  # Target labels\n",
        "\n",
        "# Split the data into training and testing sets (70% train, 30% test)\n",
        "X_train, X_test, y_train, y_test = train_test_split(X, y, test_size=0.3, random_state=42)\n",
        "\n",
        "# Initialize the Logistic Regression model\n",
        "model = LogisticRegression(max_iter=200)\n",
        "\n",
        "# Train the model\n",
        "model.fit(X_train, y_train)\n",
        "\n",
        "# Make predictions\n",
        "y_pred = model.predict(X_test)\n",
        "\n",
        "# Calculate the accuracy of the model\n",
        "accuracy = accuracy_score(y_test, y_pred)\n",
        "print(f\"Model Accuracy: {accuracy * 100:.2f}%\")\n",
        "\n",
        "# Identify the importance of each feature based on model coefficients\n",
        "feature_importance = np.abs(model.coef_)\n",
        "\n",
        "# Since we have 3 classes in the Iris dataset, we will loop over each class\n",
        "# and print the features for each class.\n",
        "print(\"\\nFeature Importance (Coefficients) for Each Class:\")\n",
        "for i, class_coefficients in enumerate(feature_importance):\n",
        "    print(f\"\\nClass {i}:\")\n",
        "    # Combine feature names with their coefficients and sort by the absolute value of coefficients\n",
        "    feature_importance_sorted = sorted(zip(data.feature_names, class_coefficients), key=lambda x: abs(x[1]), reverse=True)\n",
        "    for feature, coef in feature_importance_sorted:\n",
        "        print(f\"{feature}: {coef:.4f}\")\n"
      ],
      "metadata": {
        "colab": {
          "base_uri": "https://localhost:8080/"
        },
        "id": "hBndlfUne5Mi",
        "outputId": "3b76a81f-a211-48bb-cc43-2c741a22e5df"
      },
      "execution_count": 25,
      "outputs": [
        {
          "output_type": "stream",
          "name": "stdout",
          "text": [
            "Model Accuracy: 100.00%\n",
            "\n",
            "Feature Importance (Coefficients) for Each Class:\n",
            "\n",
            "Class 0:\n",
            "petal length (cm): 2.2779\n",
            "petal width (cm): 0.9568\n",
            "sepal width (cm): 0.8689\n",
            "sepal length (cm): 0.4054\n",
            "\n",
            "Class 1:\n",
            "petal width (cm): 0.7213\n",
            "sepal length (cm): 0.4664\n",
            "sepal width (cm): 0.3749\n",
            "petal length (cm): 0.1875\n",
            "\n",
            "Class 2:\n",
            "petal length (cm): 2.4653\n",
            "petal width (cm): 1.6781\n",
            "sepal width (cm): 0.4940\n",
            "sepal length (cm): 0.0610\n"
          ]
        }
      ]
    },
    {
      "cell_type": "code",
      "source": [
        "## QUES 19) Write a Python program to train Logistic Regression and evaluate its performance using Cohen’s Kappa\n",
        "# Score.\n",
        "import numpy as np\n",
        "import pandas as pd\n",
        "from sklearn.model_selection import train_test_split\n",
        "from sklearn.preprocessing import StandardScaler\n",
        "from sklearn.linear_model import LogisticRegression\n",
        "from sklearn.metrics import cohen_kappa_score, accuracy_score\n",
        "from sklearn.datasets import make_classification\n",
        "\n",
        "# Generate a synthetic dataset\n",
        "X, y = make_classification(n_samples=1000, n_features=10, random_state=42)\n",
        "\n",
        "# Split data into training and testing sets\n",
        "X_train, X_test, y_train, y_test = train_test_split(X, y, test_size=0.2, random_state=42)\n",
        "\n",
        "# Standardize the features\n",
        "scaler = StandardScaler()\n",
        "X_train = scaler.fit_transform(X_train)\n",
        "X_test = scaler.transform(X_test)\n",
        "\n",
        "# Train logistic regression model\n",
        "model = LogisticRegression()\n",
        "model.fit(X_train, y_train)\n",
        "\n",
        "# Make predictions\n",
        "y_pred = model.predict(X_test)\n",
        "\n",
        "# Evaluate the model\n",
        "accuracy = accuracy_score(y_test, y_pred)\n",
        "kappa = cohen_kappa_score(y_test, y_pred)\n",
        "\n",
        "print(f\"Accuracy: {accuracy:.4f}\")\n",
        "print(f\"Cohen's Kappa Score: {kappa:.4f}\")"
      ],
      "metadata": {
        "colab": {
          "base_uri": "https://localhost:8080/"
        },
        "id": "DnobNAFffN5g",
        "outputId": "c0193eb7-c22f-43c7-bf31-d5beb0e71924"
      },
      "execution_count": 27,
      "outputs": [
        {
          "output_type": "stream",
          "name": "stdout",
          "text": [
            "Accuracy: 0.8300\n",
            "Cohen's Kappa Score: 0.6581\n"
          ]
        }
      ]
    },
    {
      "cell_type": "code",
      "source": [
        "## QUES 20) Write a Python program to train Logistic Regression and visualize the Precision-Recall Curve for binary\n",
        "# classification.\n",
        "import numpy as np\n",
        "import pandas as pd\n",
        "import matplotlib.pyplot as plt\n",
        "from sklearn.model_selection import train_test_split\n",
        "from sklearn.preprocessing import StandardScaler\n",
        "from sklearn.linear_model import LogisticRegression\n",
        "from sklearn.metrics import precision_recall_curve, auc\n",
        "from sklearn.datasets import make_classification\n",
        "\n",
        "# Generate a synthetic dataset\n",
        "X, y = make_classification(n_samples=1000, n_features=10, random_state=42)\n",
        "\n",
        "# Split data into training and testing sets\n",
        "X_train, X_test, y_train, y_test = train_test_split(X, y, test_size=0.2, random_state=42)\n",
        "\n",
        "# Standardize the features\n",
        "scaler = StandardScaler()\n",
        "X_train = scaler.fit_transform(X_train)\n",
        "X_test = scaler.transform(X_test)\n",
        "\n",
        "# Train logistic regression model\n",
        "model = LogisticRegression()\n",
        "model.fit(X_train, y_train)\n",
        "\n",
        "# Get probability predictions\n",
        "y_scores = model.predict_proba(X_test)[:, 1]\n",
        "\n",
        "# Compute Precision-Recall curve\n",
        "precision, recall, _ = precision_recall_curve(y_test, y_scores)\n",
        "auc_pr = auc(recall, precision)\n",
        "\n",
        "# Plot Precision-Recall curve\n",
        "plt.figure(figsize=(8, 6))\n",
        "plt.plot(recall, precision, marker='.', label=f'PR AUC = {auc_pr:.4f}')\n",
        "plt.xlabel('Recall')\n",
        "plt.ylabel('Precision')\n",
        "plt.title('Precision-Recall Curve for Logistic Regression')\n",
        "plt.legend()\n",
        "plt.grid()\n",
        "plt.show()"
      ],
      "metadata": {
        "colab": {
          "base_uri": "https://localhost:8080/",
          "height": 564
        },
        "id": "9c65b1MvgJzz",
        "outputId": "4c2e34cb-39dd-44bc-9380-993c7d878837"
      },
      "execution_count": 28,
      "outputs": [
        {
          "output_type": "display_data",
          "data": {
            "text/plain": [
              "<Figure size 800x600 with 1 Axes>"
            ],
            "image/png": "[encoded data removed]"
          },
          "metadata": {}
        }
      ]
    },
    {
      "cell_type": "code",
      "source": [
        "## QUES 21) Write a Python program to train Logistic Regression with different solvers (liblinear, saga, lbfgs) and compare\n",
        "# their accuracy.\n",
        "# Import necessary libraries\n",
        "import numpy as np\n",
        "import pandas as pd\n",
        "from sklearn.model_selection import train_test_split\n",
        "from sklearn.linear_model import LogisticRegression\n",
        "from sklearn.metrics import accuracy_score\n",
        "from sklearn.datasets import load_iris\n",
        "\n",
        "# Load a sample dataset (Iris dataset)\n",
        "data = load_iris()\n",
        "X = data.data  # Features\n",
        "y = data.target  # Target labels\n",
        "\n",
        "# Split the data into training and testing sets (70% train, 30% test)\n",
        "X_train, X_test, y_train, y_test = train_test_split(X, y, test_size=0.3, random_state=42)\n",
        "\n",
        "# List of solvers to compare\n",
        "solvers = ['liblinear', 'saga', 'lbfgs']\n",
        "\n",
        "# Dictionary to store the accuracy for each solver\n",
        "accuracy_dict = {}\n",
        "\n",
        "# Loop through the solvers, train a Logistic Regression model, and evaluate accuracy\n",
        "for solver in solvers:\n",
        "    # Initialize the Logistic Regression model with the current solver\n",
        "    model = LogisticRegression(solver=solver, max_iter=200, random_state=42)\n",
        "\n",
        "    # Train the model\n",
        "    model.fit(X_train, y_train)\n",
        "\n",
        "    # Make predictions on the test set\n",
        "    y_pred = model.predict(X_test)\n",
        "\n",
        "    # Calculate the accuracy\n",
        "    accuracy = accuracy_score(y_test, y_pred)\n",
        "\n",
        "    # Store the accuracy for the current solver\n",
        "    accuracy_dict[solver] = accuracy\n",
        "\n",
        "# Print the comparison of accuracies\n",
        "print(\"Comparison of Logistic Regression Solvers:\")\n",
        "for solver, accuracy in accuracy_dict.items():\n",
        "    print(f\"Solver: {solver} | Accuracy: {accuracy * 100:.2f}%\")\n"
      ],
      "metadata": {
        "colab": {
          "base_uri": "https://localhost:8080/"
        },
        "id": "icfkPabMgdrr",
        "outputId": "541ac066-bc2c-44e5-9b1e-f3471dfefe48"
      },
      "execution_count": 29,
      "outputs": [
        {
          "output_type": "stream",
          "name": "stdout",
          "text": [
            "Comparison of Logistic Regression Solvers:\n",
            "Solver: liblinear | Accuracy: 97.78%\n",
            "Solver: saga | Accuracy: 100.00%\n",
            "Solver: lbfgs | Accuracy: 100.00%\n"
          ]
        },
        {
          "output_type": "stream",
          "name": "stderr",
          "text": [
            "/usr/local/lib/python3.11/dist-packages/sklearn/linear_model/_sag.py:348: ConvergenceWarning: The max_iter was reached which means the coef_ did not converge\n",
            "  warnings.warn(\n"
          ]
        }
      ]
    },
    {
      "cell_type": "code",
      "source": [
        "## QUES 22) Write a Python program to train Logistic Regression and evaluate its performance using Matthews\n",
        "# Correlation Coefficient (MCC).\n",
        "# Import necessary libraries\n",
        "import numpy as np\n",
        "from sklearn.model_selection import train_test_split\n",
        "from sklearn.linear_model import LogisticRegression\n",
        "from sklearn.metrics import matthews_corrcoef\n",
        "from sklearn.datasets import load_iris\n",
        "\n",
        "# Load a sample dataset (Iris dataset)\n",
        "data = load_iris()\n",
        "X = data.data  # Features\n",
        "y = data.target  # Target labels\n",
        "\n",
        "# Split the data into training and testing sets (70% train, 30% test)\n",
        "X_train, X_test, y_train, y_test = train_test_split(X, y, test_size=0.3, random_state=42)\n",
        "\n",
        "# Initialize the Logistic Regression model\n",
        "model = LogisticRegression(max_iter=200, random_state=42)\n",
        "\n",
        "# Train the model\n",
        "model.fit(X_train, y_train)\n",
        "\n",
        "# Make predictions on the test set\n",
        "y_pred = model.predict(X_test)\n",
        "\n",
        "# Compute the Matthews Correlation Coefficient (MCC)\n",
        "mcc = matthews_corrcoef(y_test, y_pred)\n",
        "\n",
        "# Print the MCC value\n",
        "print(f\"Matthews Correlation Coefficient (MCC): {mcc:.4f}\")\n"
      ],
      "metadata": {
        "colab": {
          "base_uri": "https://localhost:8080/"
        },
        "id": "T9DBIBpZg6_y",
        "outputId": "bb36fed2-36e1-43d8-ee87-0ebe9b0db51e"
      },
      "execution_count": 30,
      "outputs": [
        {
          "output_type": "stream",
          "name": "stdout",
          "text": [
            "Matthews Correlation Coefficient (MCC): 1.0000\n"
          ]
        }
      ]
    },
    {
      "cell_type": "code",
      "source": [
        "## QUES 23) Write a Python program to train Logistic Regression on both raw and standardized data. Compare their\n",
        "# accuracy to see the impact of feature scaling.\n",
        "# Import necessary libraries\n",
        "import numpy as np\n",
        "from sklearn.model_selection import train_test_split\n",
        "from sklearn.linear_model import LogisticRegression\n",
        "from sklearn.preprocessing import StandardScaler\n",
        "from sklearn.metrics import accuracy_score\n",
        "from sklearn.datasets import load_iris\n",
        "\n",
        "# Load a sample dataset (Iris dataset)\n",
        "data = load_iris()\n",
        "X = data.data  # Features\n",
        "y = data.target  # Target labels\n",
        "\n",
        "# Split the data into training and testing sets (70% train, 30% test)\n",
        "X_train, X_test, y_train, y_test = train_test_split(X, y, test_size=0.3, random_state=42)\n",
        "\n",
        "# Initialize the Logistic Regression model\n",
        "model = LogisticRegression(max_iter=200, random_state=42)\n",
        "\n",
        "# Train the model on the raw data (no scaling)\n",
        "model.fit(X_train, y_train)\n",
        "y_pred_raw = model.predict(X_test)\n",
        "accuracy_raw = accuracy_score(y_test, y_pred_raw)\n",
        "\n",
        "# Standardize the data using StandardScaler\n",
        "scaler = StandardScaler()\n",
        "X_train_scaled = scaler.fit_transform(X_train)\n",
        "X_test_scaled = scaler.transform(X_test)\n",
        "\n",
        "# Train the model on the standardized data\n",
        "model.fit(X_train_scaled, y_train)\n",
        "y_pred_scaled = model.predict(X_test_scaled)\n",
        "accuracy_scaled = accuracy_score(y_test, y_pred_scaled)\n",
        "\n",
        "# Print the comparison of accuracies\n",
        "print(f\"Accuracy on Raw Data: {accuracy_raw * 100:.2f}%\")\n",
        "print(f\"Accuracy on Standardized Data: {accuracy_scaled * 100:.2f}%\")\n"
      ],
      "metadata": {
        "colab": {
          "base_uri": "https://localhost:8080/"
        },
        "id": "8axLihjDhRxc",
        "outputId": "24fd9fa7-8516-45e2-fa94-ecc884cf94eb"
      },
      "execution_count": 32,
      "outputs": [
        {
          "output_type": "stream",
          "name": "stdout",
          "text": [
            "Accuracy on Raw Data: 100.00%\n",
            "Accuracy on Standardized Data: 100.00%\n"
          ]
        }
      ]
    },
    {
      "cell_type": "code",
      "source": [
        "## QUES 24) Write a Python program to train Logistic Regression and find the optimal C (regularization strength) using\n",
        "# cross-validation.\n",
        "# Import necessary libraries\n",
        "import numpy as np\n",
        "from sklearn.model_selection import train_test_split, GridSearchCV\n",
        "from sklearn.linear_model import LogisticRegression\n",
        "from sklearn.datasets import load_iris\n",
        "from sklearn.metrics import accuracy_score\n",
        "\n",
        "# Load a sample dataset (Iris dataset)\n",
        "data = load_iris()\n",
        "X = data.data  # Features\n",
        "y = data.target  # Target labels\n",
        "\n",
        "# Split the data into training and testing sets (70% train, 30% test)\n",
        "X_train, X_test, y_train, y_test = train_test_split(X, y, test_size=0.3, random_state=42)\n",
        "\n",
        "# Initialize the Logistic Regression model\n",
        "model = LogisticRegression(max_iter=200, random_state=42)\n",
        "\n",
        "# Define a range of values for the regularization strength C\n",
        "param_grid = {'C': np.logspace(-4, 4, 20)}\n",
        "\n",
        "# Perform GridSearchCV with 5-fold cross-validation\n",
        "grid_search = GridSearchCV(estimator=model, param_grid=param_grid, cv=5, scoring='accuracy')\n",
        "\n",
        "# Fit the model on the training data to find the best C\n",
        "grid_search.fit(X_train, y_train)\n",
        "\n",
        "# Get the best value for C and the best accuracy from the grid search\n",
        "best_C = grid_search.best_params_['C']\n",
        "best_accuracy = grid_search.best_score_\n",
        "\n",
        "# Print the optimal C and the corresponding accuracy\n",
        "print(f\"Optimal C: {best_C}\")\n",
        "print(f\"Best Cross-Validation Accuracy: {best_accuracy * 100:.2f}%\")\n",
        "\n",
        "# Evaluate the model with the best C on the test set\n",
        "best_model = grid_search.best_estimator_\n",
        "y_pred = best_model.predict(X_test)\n",
        "test_accuracy = accuracy_score(y_test, y_pred)\n",
        "\n",
        "# Print the accuracy on the test set\n",
        "print(f\"Test Accuracy with optimal C: {test_accuracy * 100:.2f}%\")\n"
      ],
      "metadata": {
        "colab": {
          "base_uri": "https://localhost:8080/"
        },
        "id": "SM6p6qichnEo",
        "outputId": "fb5c878c-c34a-482e-f549-0ed3cc6b0cc9"
      },
      "execution_count": 36,
      "outputs": [
        {
          "output_type": "stream",
          "name": "stdout",
          "text": [
            "Optimal C: 1.623776739188721\n",
            "Best Cross-Validation Accuracy: 96.19%\n",
            "Test Accuracy with optimal C: 100.00%\n"
          ]
        }
      ]
    },
    {
      "cell_type": "code",
      "source": [
        "## QUES 25) Write a Python program to train Logistic Regression, save the trained model using joblib, and load it again to\n",
        "# make predictions.\n",
        "import numpy as np\n",
        "import pandas as pd\n",
        "import joblib\n",
        "import matplotlib.pyplot as plt\n",
        "from sklearn.model_selection import train_test_split\n",
        "from sklearn.preprocessing import StandardScaler\n",
        "from sklearn.linear_model import LogisticRegression\n",
        "from sklearn.metrics import accuracy_score\n",
        "from sklearn.datasets import make_classification\n",
        "\n",
        "# Generate a synthetic dataset\n",
        "X, y = make_classification(n_samples=1000, n_features=10, random_state=42)\n",
        "\n",
        "# Split data into training and testing sets\n",
        "X_train, X_test, y_train, y_test = train_test_split(X, y, test_size=0.2, random_state=42)\n",
        "\n",
        "# Standardize the features\n",
        "scaler = StandardScaler()\n",
        "X_train = scaler.fit_transform(X_train)\n",
        "X_test = scaler.transform(X_test)\n",
        "\n",
        "# Train logistic regression model\n",
        "model = LogisticRegression()\n",
        "model.fit(X_train, y_train)\n",
        "\n",
        "# Save the trained model and scaler\n",
        "joblib.dump(model, 'logistic_regression_model.pkl')\n",
        "joblib.dump(scaler, 'scaler.pkl')\n",
        "print(\"Model and scaler saved successfully.\")\n",
        "\n",
        "# Load the model and scaler\n",
        "loaded_model = joblib.load('logistic_regression_model.pkl')\n",
        "loaded_scaler = joblib.load('scaler.pkl')\n",
        "print(\"Model and scaler loaded successfully.\")\n",
        "\n",
        "# Transform test data using the loaded scaler\n",
        "X_test_scaled = loaded_scaler.transform(X_test)\n",
        "\n",
        "# Make predictions with the loaded model\n",
        "y_pred = loaded_model.predict(X_test_scaled)\n",
        "accuracy = accuracy_score(y_test, y_pred)\n",
        "print(f'Accuracy of loaded model: {accuracy:.4f}')"
      ],
      "metadata": {
        "colab": {
          "base_uri": "https://localhost:8080/"
        },
        "id": "Iwjdr2Ejiv54",
        "outputId": "79201b87-8fb4-4b56-a66d-761eb3eeb31b"
      },
      "execution_count": 37,
      "outputs": [
        {
          "output_type": "stream",
          "name": "stdout",
          "text": [
            "Model and scaler saved successfully.\n",
            "Model and scaler loaded successfully.\n",
            "Accuracy of loaded model: 0.8450\n"
          ]
        }
      ]
    }
  ]
}