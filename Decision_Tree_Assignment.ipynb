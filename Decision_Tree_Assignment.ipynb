{
  "nbformat": 4,
  "nbformat_minor": 0,
  "metadata": {
    "colab": {
      "provenance": [],
      "include_colab_link": true
    },
    "kernelspec": {
      "name": "python3",
      "display_name": "Python 3"
    },
    "language_info": {
      "name": "python"
    }
  },
  "cells": [
    {
      "cell_type": "markdown",
      "metadata": {
        "id": "view-in-github",
        "colab_type": "text"
      },
      "source": [
        "<a href=\"https://colab.research.google.com/github/mrpahadi2609/ML/blob/main/Decision_Tree_Assignment.ipynb\" target=\"_parent\"><img src=\"https://colab.research.google.com/assets/colab-badge.svg\" alt=\"Open In Colab\"/></a>"
      ]
    },
    {
      "cell_type": "code",
      "execution_count": null,
      "metadata": {
        "id": "SqO6_89JxeOR"
      },
      "outputs": [],
      "source": [
        "## THEORETICAL QUESTIONS"
      ]
    },
    {
      "cell_type": "code",
      "source": [
        "## QUES 01) What is a Decision Tree, and how does it work?"
      ],
      "metadata": {
        "id": "_VcS-jFexwxL"
      },
      "execution_count": null,
      "outputs": []
    },
    {
      "cell_type": "markdown",
      "source": [
        "A Decision Tree is a model used in decision-making and machine learning that mimics the way humans make decisions. It's called a tree because it starts with a single root node and branches out to show possible outcomes or decisions.\n",
        "\n",
        "### Here's how it works:\n",
        "\n",
        "1. **Root Node**: This is where the decision process starts. For example, in a weather-based decision tree, the root node might ask, \"Is it sunny?\"\n",
        "\n",
        "2. **Branches**: These are the paths based on possible answers. For the question above, you might have two branches: \"Yes\" and \"No.\"\n",
        "\n",
        "3. **Internal Nodes**: These represent further questions or decisions based on the previous answer. For instance, after \"Is it sunny?\" you might ask, \"Is it hot?\" for the \"Yes\" branch.\n",
        "\n",
        "4. **Leaf Nodes**: These are the final outcomes or decisions. For example, at the end of the branches, you might have outcomes like \"Go for a walk\" or \"Stay indoors.\"\n",
        "\n",
        "### In machine learning:\n",
        "- Decision Trees analyze data by splitting it into subsets based on features (like weather conditions, age, or income).\n",
        "- This splitting continues until a certain criterion is met, such as a tree depth or homogeneity of data in a leaf node.\n",
        "- Once built, the tree can classify new data by traversing its structure.\n",
        "\n",
        "It's widely used because it's simple, easy to interpret, and effective for both classification and regression tasks."
      ],
      "metadata": {
        "id": "8cxiSB-wx-_e"
      }
    },
    {
      "cell_type": "code",
      "source": [
        "## QUES 02) What are impurity measures in Decision Trees?"
      ],
      "metadata": {
        "id": "aU_oaltuyS7k"
      },
      "execution_count": null,
      "outputs": []
    },
    {
      "cell_type": "markdown",
      "source": [
        "Impurity measures in Decision Trees are metrics used to evaluate how well a dataset is split at each node. They assess the \"purity\" of the data, meaning how homogenous or uniform the data is in terms of the target variable. A \"pure\" node contains data points belonging to a single class, while an \"impure\" node has a mix of classes.\n",
        "\n",
        "### Common Impurity Measures:\n",
        "\n",
        "1. **Gini Impurity**:\n",
        "   - It measures the probability of misclassifying a randomly chosen data point from the split.\n",
        "   - Formula: $$Gini = 1 - \\sum_{i=1}^n p_i^2$$  \n",
        "     Where \\(p_i\\) is the proportion of data points belonging to class \\(i\\).\n",
        "   - Lower Gini values indicate purer splits.\n",
        "\n",
        "2. **Entropy (Information Gain)**:\n",
        "   - Based on the concept of entropy in information theory, it quantifies the unpredictability or disorder in the data.\n",
        "   - Formula: $$Entropy = -\\sum_{i=1}^n p_i \\log_2(p_i)$$  \n",
        "   - Decision Trees aim to reduce entropy at each split to create purer nodes. The reduction in entropy is called **Information Gain**.\n",
        "\n",
        "3. **Classification Error (Misclassification Rate)**:\n",
        "   - It directly measures the fraction of misclassified instances.\n",
        "   - Formula: $$Error = 1 - \\max(p_i)$$\n",
        "   - Though simpler, it is less sensitive to changes compared to Gini and Entropy, so it's rarely used in practice.\n",
        "\n",
        "### How Impurity Measures Work:\n",
        "At each node, the Decision Tree evaluates potential splits using one of these impurity measures. It chooses the split that results in the maximum reduction of impurity (i.e., most pure nodes). This process is repeated for all nodes until a stopping criterion is met."
      ],
      "metadata": {
        "id": "oY2N0JaoyZz8"
      }
    },
    {
      "cell_type": "code",
      "source": [
        "## QUES 03) What is the mathematical formula for Gini Impurity?"
      ],
      "metadata": {
        "id": "IO8eyrB0yeZe"
      },
      "execution_count": null,
      "outputs": []
    },
    {
      "cell_type": "markdown",
      "source": [
        "The mathematical formula for Gini Impurity is:\n",
        "\n",
        "\\[\n",
        "Gini = 1 - \\sum_{i=1}^n p_i^2\n",
        "\\]\n",
        "\n",
        "Where:\n",
        "- \\(n\\) is the total number of classes.\n",
        "- \\(p_i\\) is the proportion of samples that belong to class \\(i\\).\n",
        "\n",
        "### Explanation:\n",
        "- The Gini Impurity measures the likelihood of incorrectly classifying a randomly chosen element if it were labeled according to the distribution of classes at a node.\n",
        "- It ranges from 0 (pure node where all elements belong to one class) to a maximum value (most impure) when classes are evenly distributed."
      ],
      "metadata": {
        "id": "gC_eYYeXylPs"
      }
    },
    {
      "cell_type": "code",
      "source": [
        "## QUES 04) What is the mathematical formula for Entropy?"
      ],
      "metadata": {
        "id": "2GQfBMAkypRr"
      },
      "execution_count": null,
      "outputs": []
    },
    {
      "cell_type": "markdown",
      "source": [
        "The mathematical formula for Entropy is:\n",
        "\n",
        "\\[\n",
        "Entropy = -\\sum_{i=1}^n p_i \\log_2(p_i)\n",
        "\\]\n",
        "\n",
        "Where:\n",
        "- \\(n\\) is the total number of classes.\n",
        "- \\(p_i\\) is the proportion of samples belonging to class \\(i\\).\n",
        "- \\(\\log_2\\) represents the base-2 logarithm.\n",
        "\n",
        "### Explanation:\n",
        "- Entropy measures the level of disorder or uncertainty in the data.\n",
        "- When the data is perfectly homogenous (all samples belong to one class), entropy is 0, meaning no uncertainty.\n",
        "- When the data is evenly distributed across all classes, entropy is at its maximum, indicating the highest uncertainty."
      ],
      "metadata": {
        "id": "o3v6kXb7ywV8"
      }
    },
    {
      "cell_type": "code",
      "source": [
        "## QUES 05) What is Information Gain, and how is it used in Decision Trees?"
      ],
      "metadata": {
        "id": "M_CPlfKgy1wg"
      },
      "execution_count": null,
      "outputs": []
    },
    {
      "cell_type": "markdown",
      "source": [
        "**Information Gain** is a metric used in Decision Trees to determine the effectiveness of a split at a node. It measures how much \"uncertainty\" or \"impurity\" is reduced after splitting the data based on a specific feature.\n",
        "\n",
        "### Formula:\n",
        "\\[\n",
        "Information\\ Gain = Entropy_{parent} - \\sum_{i=1}^k \\frac{N_i}{N} \\cdot Entropy_{child_i}\n",
        "\\]\n",
        "Where:\n",
        "- \\(Entropy_{parent}\\): Entropy of the dataset before the split.\n",
        "- \\(N_i\\): Number of data points in the \\(i^{th}\\) subset (child node).\n",
        "- \\(N\\): Total number of data points in the original dataset (parent node).\n",
        "- \\(Entropy_{child_i}\\): Entropy of the \\(i^{th}\\) child node.\n",
        "- \\(k\\): Total number of child nodes after the split.\n",
        "\n",
        "### How It's Used in Decision Trees:\n",
        "1. **Selecting the Best Feature to Split**:\n",
        "   - At each node, the Decision Tree evaluates all possible features to determine which one provides the highest Information Gain.\n",
        "   - The feature that maximizes Information Gain is chosen for the split.\n",
        "\n",
        "2. **Reducing Uncertainty**:\n",
        "   - Information Gain measures the reduction in entropy (uncertainty) as the data is divided into subsets. A higher Information Gain indicates a better, more informative split.\n",
        "\n",
        "3. **Recursive Splitting**:\n",
        "   - This process is repeated at each node, selecting the feature with the highest Information Gain at every step, until a stopping criterion is reached (e.g., maximum depth, minimum samples per leaf).\n",
        "\n",
        "### Example:\n",
        "Suppose you're building a Decision Tree to classify whether someone buys a product. If splitting the data by \"Age Group\" results in a significant reduction in entropy (higher Information Gain), that feature will be used to make the split."
      ],
      "metadata": {
        "id": "y-htO2OQy6W2"
      }
    },
    {
      "cell_type": "code",
      "source": [
        "## QUES 06) What is the difference between Gini Impurity and Entropy?"
      ],
      "metadata": {
        "id": "XatIG2O4y-6U"
      },
      "execution_count": null,
      "outputs": []
    },
    {
      "cell_type": "markdown",
      "source": [
        "The main difference between **Gini Impurity** and **Entropy** lies in how they measure the \"impurity\" of a dataset and their mathematical formulation. Both are used in Decision Trees to evaluate the quality of a split, but they have subtle distinctions.\n",
        "\n",
        "### Key Differences:\n",
        "\n",
        "| **Aspect**             | **Gini Impurity**                                | **Entropy**                                         |\n",
        "|-------------------------|-------------------------------------------------|----------------------------------------------------|\n",
        "| **Formula**             | \\(Gini = 1 - \\sum_{i=1}^n p_i^2\\)                | \\(Entropy = -\\sum_{i=1}^n p_i \\log_2(p_i)\\)         |\n",
        "| **Measurement**         | Measures the probability of misclassification if a random data point is assigned a class based on the distribution. | Measures the level of uncertainty or disorder in the data.|\n",
        "| **Value Range**         | Ranges between 0 (pure) and \\(1 - \\frac{1}{k}\\), where \\(k\\) is the number of classes. | Ranges between 0 (pure) and \\(\\log_2(k)\\).          |\n",
        "| **Computational Cost**  | Simpler and computationally faster.              | Slightly more computationally expensive due to the logarithmic calculation. |\n",
        "| **Interpretation**      | Focuses on minimizing misclassification.         | Focuses on maximizing the information gained at each split. |\n",
        "| **Preference in Use**   | Often preferred for its simplicity and efficiency, especially in large datasets. | Provides a more theoretical measure of information, which may be used when deeper insights are needed. |\n",
        "\n",
        "### Similarities:\n",
        "- Both are used to evaluate splits in Decision Trees.\n",
        "- Lower values indicate purer nodes.\n",
        "- Lead to the same splits in most cases, though their ranking of features can occasionally differ.\n"
      ],
      "metadata": {
        "id": "4jw5B8TRzD0F"
      }
    },
    {
      "cell_type": "code",
      "source": [
        "## QUES 07) What is the mathematical explanation behind Decision Trees?"
      ],
      "metadata": {
        "id": "YE6mdrD6zKWq"
      },
      "execution_count": null,
      "outputs": []
    },
    {
      "cell_type": "markdown",
      "source": [
        "The mathematical foundation of Decision Trees is based on the idea of recursively partitioning a dataset into subsets to reduce uncertainty or impurity. This involves evaluating splits using mathematical metrics such as Gini Impurity, Entropy, or Information Gain. Here's a deeper dive into the mathematics:\n",
        "\n",
        "---\n",
        "\n",
        "### 1. **Splitting the Dataset**\n",
        "At each node, the algorithm evaluates all possible splits of the dataset based on a feature. For numerical features, thresholds are tested (e.g., \\( x > 5 \\)), and for categorical features, subsets of categories are tested.\n",
        "\n",
        "---\n",
        "\n",
        "### 2. **Impurity Measures**\n",
        "Impurity is a key concept in deciding the quality of a split. Two commonly used impurity measures are:\n",
        "\n",
        "- **Gini Impurity**:\n",
        "  \\[\n",
        "  Gini = 1 - \\sum_{i=1}^n p_i^2\n",
        "  \\]\n",
        "  Here, \\( p_i \\) is the proportion of samples in class \\( i \\). Lower Gini values indicate purer nodes.\n",
        "\n",
        "- **Entropy**:\n",
        "  \\[\n",
        "  Entropy = -\\sum_{i=1}^n p_i \\log_2(p_i)\n",
        "  \\]\n",
        "  This measures the disorder in the dataset. A higher entropy indicates more impurity.\n",
        "\n",
        "---\n",
        "\n",
        "### 3. **Information Gain (Entropy-Based Trees)**\n",
        "To decide the best split, the algorithm calculates the **Information Gain** for each potential feature split:\n",
        "\\[\n",
        "Information\\ Gain = Entropy_{parent} - \\sum_{i=1}^k \\frac{N_i}{N} \\cdot Entropy_{child_i}\n",
        "\\]\n",
        "Where:\n",
        "- \\( N \\): Total samples in the parent node.\n",
        "- \\( N_i \\): Samples in the \\( i^{th} \\) child node.\n",
        "- \\( Entropy_{child_i} \\): Entropy of the \\( i^{th} \\) child.\n",
        "\n",
        "The feature that maximizes the Information Gain is chosen for splitting.\n",
        "\n",
        "---\n",
        "\n",
        "### 4. **Gini Reduction (Gini-Based Trees)**\n",
        "Similarly, for Gini-based splits, the algorithm computes the **Reduction in Gini Impurity**:\n",
        "\\[\n",
        "Gini\\ Reduction = Gini_{parent} - \\sum_{i=1}^k \\frac{N_i}{N} \\cdot Gini_{child_i}\n",
        "\\]\n",
        "\n",
        "The feature with the highest Gini Reduction is selected.\n",
        "\n",
        "---\n",
        "\n",
        "### 5. **Recursive Partitioning**\n",
        "After the initial split, the algorithm repeats the process for each child node:\n",
        "- Evaluates possible splits,\n",
        "- Computes impurity metrics,\n",
        "- Selects the feature and split point that minimizes impurity or maximizes Information Gain.\n",
        "\n",
        "This recursive process continues until stopping criteria are met, such as:\n",
        "- Maximum tree depth,\n",
        "- Minimum number of samples in a node,\n",
        "- All nodes being \"pure.\"\n",
        "\n",
        "---\n",
        "\n",
        "### 6. **Prediction**\n",
        "For classification tasks, the output at a leaf node is the majority class. For regression tasks, the output is typically the mean value of the target variable in that node.\n",
        "\n",
        "---\n",
        "\n",
        "The mathematical rigor of Decision Trees ensures that they create interpretable and effective models."
      ],
      "metadata": {
        "id": "U7HLYJDdzTmN"
      }
    },
    {
      "cell_type": "code",
      "source": [
        "## QUES 08) What is Pre-Pruning in Decision Trees?"
      ],
      "metadata": {
        "id": "G11uFDYizZSc"
      },
      "execution_count": null,
      "outputs": []
    },
    {
      "cell_type": "markdown",
      "source": [
        "**Pre-pruning**, also known as **early stopping**, is a technique used in Decision Trees to halt the growth of the tree before it becomes too complex. The goal is to prevent the tree from overfitting the training data, which can happen if it becomes too detailed and starts capturing noise instead of general patterns.\n",
        "\n",
        "### How Pre-Pruning Works:\n",
        "During the construction of the tree, certain conditions are set to stop further splits. These conditions can include:\n",
        "1. **Maximum Depth**: Limiting how deep the tree can grow.\n",
        "2. **Minimum Samples per Node**: Requiring a minimum number of data points for a node to be split further.\n",
        "3. **Minimum Information Gain or Impurity Reduction**: Stopping splits that don’t improve the model significantly.\n",
        "4. **Maximum Number of Nodes**: Restricting the total number of nodes in the tree.\n",
        "\n",
        "### Advantages:\n",
        "- Reduces the risk of overfitting.\n",
        "- Decreases the computational cost and memory requirements.\n",
        "- Simplifies the tree, making it more interpretable.\n",
        "\n",
        "### Disadvantages:\n",
        "- May lead to underfitting if the stopping conditions are too restrictive, as the tree might not capture sufficient patterns in the data.\n",
        "\n",
        "Pre-pruning is often compared with **post-pruning**, which involves growing the full tree first and then trimming it back. Both techniques aim to balance the trade-off between model complexity and performance."
      ],
      "metadata": {
        "id": "WEjyhPDXzd7u"
      }
    },
    {
      "cell_type": "code",
      "source": [
        "## QUES 09) What is Post-Pruning in Decision Trees?"
      ],
      "metadata": {
        "id": "4180W2_mzi5q"
      },
      "execution_count": null,
      "outputs": []
    },
    {
      "cell_type": "markdown",
      "source": [
        "**Post-pruning**, also known as **tree pruning**, is a technique used to simplify Decision Trees after they have been fully grown. The goal is to remove unnecessary branches that do not contribute significantly to the tree's predictive accuracy, reducing overfitting and improving generalization to unseen data.\n",
        "\n",
        "---\n",
        "\n",
        "### How Post-Pruning Works:\n",
        "\n",
        "1. **Grow the Full Tree**:\n",
        "   - The tree is allowed to grow to its maximum depth or until all nodes are pure (contain data points from only one class).\n",
        "   - This often results in an overly complex tree that captures noise in the training data.\n",
        "\n",
        "2. **Pruning Back the Tree**:\n",
        "   - Starting at the leaf nodes, branches that have little or no impact on prediction performance are pruned (removed).\n",
        "   - The process continues up the tree, removing nodes based on certain criteria.\n",
        "\n",
        "3. **Criteria for Pruning**:\n",
        "   - A common approach is to use a **validation dataset** to evaluate the tree's accuracy after pruning. Nodes are pruned if removing them improves performance on the validation set.\n",
        "   - Other methods involve setting thresholds for metrics like:\n",
        "     - Minimum **Information Gain**.\n",
        "     - Maximum **Error Tolerance**.\n",
        "\n",
        "---\n",
        "\n",
        "### Advantages:\n",
        "- **Reduces Overfitting**: By trimming unnecessary parts, the tree becomes less specific to the training data.\n",
        "- **Simplifies Interpretation**: A pruned tree is smaller and easier to understand.\n",
        "- **Improves Performance**: Pruned trees often generalize better to new, unseen data.\n",
        "\n",
        "### Disadvantages:\n",
        "- Requires additional computation, especially if a validation dataset is used.\n",
        "- If over-pruned, the tree might underfit the data, leading to poor predictions.\n",
        "\n",
        "---\n",
        "\n",
        "### Comparison with Pre-Pruning:\n",
        "- **Pre-pruning** halts the growth of the tree during training, while **post-pruning** simplifies the tree after it's fully built.\n",
        "- Post-pruning generally results in better trees because the full structure is analyzed before making pruning decisions.\n",
        "\n"
      ],
      "metadata": {
        "id": "ImUk3CgsznlN"
      }
    },
    {
      "cell_type": "code",
      "source": [
        "## QUES 10) What is the difference between Pre-Pruning and Post-Pruning?"
      ],
      "metadata": {
        "id": "VIuuSM6rzruW"
      },
      "execution_count": null,
      "outputs": []
    },
    {
      "cell_type": "markdown",
      "source": [
        "Pre-pruning and post-pruning are two techniques used to control the complexity of a Decision Tree and prevent overfitting, but they differ in their timing and approach.\n",
        "\n",
        "---\n",
        "\n",
        "### **Key Differences**\n",
        "\n",
        "| **Aspect**             | **Pre-Pruning**                                   | **Post-Pruning**                                  |\n",
        "|-------------------------|---------------------------------------------------|--------------------------------------------------|\n",
        "| **Timing**             | Stops the tree from growing too deep during construction. | Simplifies the tree after it is fully grown.    |\n",
        "| **Process**            | Prevents further splits based on certain criteria (e.g., max depth, minimum samples per node). | Starts with a complete tree and removes unnecessary branches. |\n",
        "| **Criteria for Stopping/Pruning** | Set thresholds like maximum depth, minimum information gain, or minimum samples. | Uses a validation dataset to evaluate and prune nodes that don't improve accuracy. |\n",
        "| **Risk of Underfitting** | Higher risk since some useful splits might be stopped prematurely. | Lower risk because pruning decisions are based on the full tree. |\n",
        "| **Complexity of Implementation** | Simpler and computationally efficient since pruning decisions are made during tree construction. | More complex and computationally expensive, requiring post-analysis and evaluation. |\n",
        "| **Tree Growth**        | Grows a potentially simpler tree by halting growth early. | Grows a fully complex tree first, then simplifies it. |\n",
        "\n",
        "---\n",
        "\n",
        "### **Which One to Use?**\n",
        "- **Pre-Pruning** is useful when computational resources are limited or when building simpler models is a priority.\n",
        "- **Post-Pruning** often results in better performance because it evaluates the full tree before deciding which parts to prune.\n"
      ],
      "metadata": {
        "id": "zxsO5-wkzwY_"
      }
    },
    {
      "cell_type": "code",
      "source": [
        "## QUES 11) What is a Decision Tree Regressor?"
      ],
      "metadata": {
        "id": "IFnHKsuBzz5K"
      },
      "execution_count": null,
      "outputs": []
    },
    {
      "cell_type": "markdown",
      "source": [
        "A **Decision Tree Regressor** is a type of machine learning algorithm used for regression tasks, where the goal is to predict a continuous numerical value rather than a discrete class or category (as in classification tasks).\n",
        "\n",
        "---\n",
        "\n",
        "### How It Works:\n",
        "1. **Tree Structure**:\n",
        "   - Similar to a decision tree used for classification, a regression tree consists of nodes, branches, and leaf nodes.\n",
        "   - At each node, the algorithm splits the data based on feature thresholds to minimize the variance or error in the target variable.\n",
        "\n",
        "2. **Splitting Criterion**:\n",
        "   - Unlike classification, where metrics like Gini Impurity or Entropy are used, regression trees use measures like:\n",
        "     - **Mean Squared Error (MSE):** Splits are chosen to minimize the MSE within each subset.\n",
        "     - **Variance Reduction:** Nodes are split to reduce the variance in the target variable as much as possible.\n",
        "\n",
        "3. **Leaf Nodes**:\n",
        "   - Instead of predicting a class label, each leaf node predicts a numerical value, typically the **mean value** of the target variable in that region of the data.\n",
        "\n",
        "4. **Prediction**:\n",
        "   - To make predictions, the input data is passed through the tree, following the decision rules at each node until reaching a leaf. The output is the value at the leaf node.\n",
        "\n",
        "---\n",
        "\n",
        "### Example:\n",
        "Imagine you're predicting the price of a house based on features like size, location, and number of bedrooms. A Decision Tree Regressor will:\n",
        "- Split the data into subsets (e.g., \"Is the size > 1000 sq. ft.?\").\n",
        "- Further divide subsets based on other features (e.g., \"Is the location urban?\").\n",
        "- At the leaf nodes, predict a price (e.g., ₹50,00,000) based on the average price of houses in that subset.\n",
        "\n",
        "---\n",
        "\n",
        "### Advantages:\n",
        "- Easy to understand and interpret.\n",
        "- Handles both numerical and categorical features.\n",
        "- Can capture nonlinear relationships between features and the target variable.\n",
        "\n",
        "### Disadvantages:\n",
        "- Prone to overfitting, especially with deep trees.\n",
        "- Can be sensitive to changes in the data (e.g., a small change in data might result in a completely different tree).\n",
        "\n"
      ],
      "metadata": {
        "id": "zXaZgJkoz625"
      }
    },
    {
      "cell_type": "code",
      "source": [
        "## QUES 12) What are the advantages and disadvantages of Decision Trees?"
      ],
      "metadata": {
        "id": "t1L9zn4dz_LJ"
      },
      "execution_count": null,
      "outputs": []
    },
    {
      "cell_type": "markdown",
      "source": [
        "Decision Trees are popular in machine learning due to their simplicity and versatility, but they also have their limitations. Here's a breakdown of their **advantages** and **disadvantages**:\n",
        "\n",
        "---\n",
        "\n",
        "### **Advantages**:\n",
        "1. **Easy to Understand and Interpret**:\n",
        "   - Decision Trees are intuitive, and their visual structure is easy to interpret, even for non-technical users.\n",
        "   - They can be represented in a tree diagram that clearly shows decision-making paths.\n",
        "\n",
        "2. **Handles Both Numerical and Categorical Data**:\n",
        "   - Unlike some algorithms that require feature scaling or encoding, Decision Trees can handle both types of data seamlessly.\n",
        "\n",
        "3. **No Need for Feature Scaling**:\n",
        "   - Features don't need normalization or standardization, making preprocessing easier.\n",
        "\n",
        "4. **Captures Nonlinear Relationships**:\n",
        "   - Decision Trees can model complex, nonlinear relationships between features and the target variable.\n",
        "\n",
        "5. **Fast and Efficient**:\n",
        "   - They are computationally efficient for small to medium-sized datasets.\n",
        "\n",
        "6. **Versatile**:\n",
        "   - They can be used for classification, regression, and even feature selection.\n",
        "\n",
        "7. **Works with Missing Data**:\n",
        "   - Decision Trees can handle missing data by assigning splits based on available data.\n",
        "\n",
        "---\n",
        "\n",
        "### **Disadvantages**:\n",
        "1. **Prone to Overfitting**:\n",
        "   - If the tree is too deep, it may fit the training data very closely but fail to generalize to new data.\n",
        "\n",
        "2. **Instability**:\n",
        "   - Small changes in the data can result in a significantly different tree structure.\n",
        "\n",
        "3. **Biased Splits**:\n",
        "   - They can favor features with many levels or categories (e.g., numerical features with many unique values).\n",
        "\n",
        "4. **Suboptimal Predictions**:\n",
        "   - Decision Trees may not always find the global best split, as they use greedy algorithms to make locally optimal decisions.\n",
        "\n",
        "5. **Limited Performance**:\n",
        "   - On their own, Decision Trees may not perform as well as ensemble methods (e.g., Random Forests or Gradient Boosted Trees).\n",
        "\n",
        "6. **Not Ideal for Large Datasets**:\n",
        "   - While efficient on smaller datasets, Decision Trees can become computationally expensive with large datasets and many features.\n",
        "\n",
        "---\n",
        "\n",
        "### Summary:\n",
        "Decision Trees are a powerful tool for intuitive and interpretable models but may require techniques like **pruning** or combining multiple trees in **ensemble methods** to overcome their limitations.\n",
        "\n"
      ],
      "metadata": {
        "id": "GiXV_QZx0D41"
      }
    },
    {
      "cell_type": "code",
      "source": [
        "## QUES 13) How does a Decision Tree handle missing values?"
      ],
      "metadata": {
        "id": "lYJT8yEc0HdN"
      },
      "execution_count": null,
      "outputs": []
    },
    {
      "cell_type": "markdown",
      "source": [
        "Decision Trees can handle missing values effectively using several strategies, depending on the specific implementation. Here are some common approaches:\n",
        "\n",
        "---\n",
        "\n",
        "### 1. **Ignoring Missing Values During Splits**:\n",
        "   - While splitting the data at a node, the algorithm ignores rows with missing values for the feature being evaluated.\n",
        "   - This approach is simple but can lead to a loss of data, which might affect accuracy.\n",
        "\n",
        "---\n",
        "\n",
        "### 2. **Surrogate Splits**:\n",
        "   - If the primary splitting feature has missing values, the tree identifies a **surrogate feature** highly correlated with the primary feature.\n",
        "   - The surrogate feature is used to make the split for rows with missing values.\n",
        "\n",
        "---\n",
        "\n",
        "### 3. **Assigning Missing Values to the Most Frequent or Mean Category**:\n",
        "   - For **categorical features**, missing values can be assigned to the most frequent category.\n",
        "   - For **numerical features**, missing values can be replaced with the mean or median of the feature.\n",
        "\n",
        "---\n",
        "\n",
        "### 4. **Weighted Splits**:\n",
        "   - When a feature value is missing, the algorithm distributes the data row to all child nodes based on the probability of each branch being chosen.\n",
        "   - This ensures that no data point is entirely excluded due to missing values.\n",
        "\n",
        "---\n",
        "\n",
        "### 5. **Imputation**:\n",
        "   - Before building the tree, missing values are filled in (imputed) using methods like mean, median, or predictive imputation.\n",
        "   - While this happens outside the tree-building process, it ensures all rows are used.\n",
        "\n",
        "---\n",
        "\n",
        "### 6. **Probabilistic Approaches**:\n",
        "   - The algorithm models the missing values probabilistically, using them as part of the data rather than treating them as an anomaly.\n",
        "\n",
        "---\n",
        "\n",
        "### Practical Note:\n",
        "The handling of missing values can vary depending on the specific implementation of the Decision Tree (e.g., CART, C4.5, etc.) or the software/library used (like Scikit-learn in Python).\n",
        "\n"
      ],
      "metadata": {
        "id": "now12YS-0Lkf"
      }
    },
    {
      "cell_type": "code",
      "source": [
        "## QUES 14) How does a Decision Tree handle categorical features?"
      ],
      "metadata": {
        "id": "gpmUScmr0QAK"
      },
      "execution_count": null,
      "outputs": []
    },
    {
      "cell_type": "markdown",
      "source": [
        "Decision Trees handle **categorical features** by splitting the data based on the categories of these features, making them inherently well-suited for such data. Here's how they manage categorical variables:\n",
        "\n",
        "---\n",
        "\n",
        "### 1. **Splitting Categorical Features**:\n",
        "   - For a **categorical feature** with \\(k\\) distinct categories (e.g., \"Red,\" \"Blue,\" \"Green\"), the tree evaluates splits based on each possible grouping of these categories.\n",
        "   - Example:\n",
        "     - A potential split could ask: \"Is the color 'Red' or 'Blue'?\" with two branches: one for \"Yes\" and one for \"No.\"\n",
        "     - Alternatively, multiple branches can be created, one for each category.\n",
        "\n",
        "---\n",
        "\n",
        "### 2. **Choosing the Best Split**:\n",
        "   - The algorithm uses impurity measures like **Gini Impurity**, **Entropy**, or **Information Gain** to determine the most informative split.\n",
        "   - It calculates the reduction in impurity (or the gain in information) for all possible groupings of the categories and selects the split that provides the highest benefit.\n",
        "\n",
        "---\n",
        "\n",
        "### 3. **Binary vs. Multiway Splits**:\n",
        "   - Some implementations (e.g., CART) create **binary splits**, even for categorical features (e.g., \"Red\" vs. [\"Blue,\" \"Green\"]).\n",
        "   - Others (e.g., C4.5) can create **multiway splits**, where each category forms its own branch.\n",
        "\n",
        "---\n",
        "\n",
        "### 4. **Encoding Categorical Variables**:\n",
        "   - In many cases, Decision Trees can directly work with categorical data without requiring encoding.\n",
        "   - However, some tree-based algorithms (like in Scikit-learn) may require you to encode categorical features into numbers (e.g., using one-hot encoding or label encoding).\n",
        "\n",
        "---\n",
        "\n",
        "### 5. **Handling High Cardinality**:\n",
        "   - If a categorical feature has a large number of unique values (high cardinality), the algorithm might:\n",
        "     - Group rare categories together to simplify splits.\n",
        "     - Regularize or penalize splits to avoid overfitting.\n",
        "\n",
        "---\n",
        "\n",
        "### Example:\n",
        "Suppose you're building a tree to predict a customer's buying behavior based on their \"Favorite Fruit\" (categories: \"Apple,\" \"Banana,\" \"Orange\"). The Decision Tree might create a split like:\n",
        "- Branch 1: Customers who prefer \"Apple.\"\n",
        "- Branch 2: Customers who prefer \"Banana\" or \"Orange.\"\n",
        "\n",
        "---\n",
        "\n",
        "This ability to work naturally with categorical features is one of the strengths of Decision Trees."
      ],
      "metadata": {
        "id": "1SL_Josg0Vtl"
      }
    },
    {
      "cell_type": "code",
      "source": [
        "## QUES 15) What are some real-world applications of Decision Trees?"
      ],
      "metadata": {
        "id": "5AMVI8yd0aSh"
      },
      "execution_count": null,
      "outputs": []
    },
    {
      "cell_type": "markdown",
      "source": [
        "Decision Trees are widely used across various domains because of their simplicity and versatility. Here are some real-world applications:\n",
        "\n",
        "### **1. Healthcare:**\n",
        "   - **Disease Diagnosis**: Used to predict diseases based on symptoms (e.g., diagnosing diabetes or heart disease).\n",
        "   - **Treatment Plans**: Helps doctors determine the best course of treatment by analyzing patient data.\n",
        "\n",
        "### **2. Finance:**\n",
        "   - **Credit Scoring**: Assesses the creditworthiness of loan applicants.\n",
        "   - **Fraud Detection**: Detects unusual patterns in transactions that could indicate fraud.\n",
        "\n",
        "### **3. Marketing and Sales:**\n",
        "   - **Customer Segmentation**: Identifies different customer groups for targeted marketing campaigns.\n",
        "   - **Predicting Churn**: Predicts which customers are likely to stop using a service, enabling businesses to take preventive actions.\n",
        "\n",
        "### **4. Retail:**\n",
        "   - **Recommender Systems**: Suggests products to customers based on their purchase history and preferences.\n",
        "   - **Inventory Management**: Predicts demand for products to optimize stock levels.\n",
        "\n",
        "### **5. Manufacturing:**\n",
        "   - **Quality Control**: Identifies defects or issues in production processes.\n",
        "   - **Predictive Maintenance**: Predicts when equipment is likely to fail, reducing downtime and costs.\n",
        "\n",
        "### **6. Education:**\n",
        "   - **Student Performance Prediction**: Analyzes factors influencing student success to design effective interventions.\n",
        "   - **Admissions Decisions**: Helps universities evaluate applications and predict student potential.\n",
        "\n",
        "### **7. Environment:**\n",
        "   - **Weather Prediction**: Used to analyze meteorological data for weather forecasting.\n",
        "   - **Deforestation Analysis**: Helps monitor and predict changes in forest cover.\n",
        "\n",
        "### **8. Law Enforcement:**\n",
        "   - **Crime Prediction**: Identifies patterns in criminal activity to allocate resources effectively.\n",
        "   - **Risk Assessment**: Evaluates the risk level of offenders during sentencing or parole decisions.\n",
        "\n",
        "### **9. Energy:**\n",
        "   - **Demand Forecasting**: Predicts energy consumption to optimize supply.\n",
        "   - **Renewable Energy**: Models solar or wind energy generation patterns.\n",
        "\n",
        "### **10. Agriculture:**\n",
        "   - **Crop Yield Prediction**: Estimates yields based on weather, soil, and other factors.\n",
        "   - **Pest Control**: Predicts pest outbreaks to optimize pesticide usage.\n",
        "\n",
        "Decision Trees are flexible tools that adapt to problems where decision-making is essential."
      ],
      "metadata": {
        "id": "pe1wcchS0e62"
      }
    },
    {
      "cell_type": "code",
      "source": [
        "## PRACTICAL QUESTIONS"
      ],
      "metadata": {
        "id": "mMDqeJQB0jKi"
      },
      "execution_count": null,
      "outputs": []
    },
    {
      "cell_type": "code",
      "source": [
        "## QUES 16) Write a Python program to train a Decision Tree Classifier on the Iris dataset and print the model accuracy\n",
        "# Importing necessary libraries\n",
        "from sklearn.datasets import load_iris\n",
        "from sklearn.tree import DecisionTreeClassifier\n",
        "from sklearn.model_selection import train_test_split\n",
        "from sklearn.metrics import accuracy_score\n",
        "\n",
        "# Loading the Iris dataset\n",
        "iris = load_iris()\n",
        "X = iris.data  # Features\n",
        "y = iris.target  # Target labels\n",
        "\n",
        "# Splitting the dataset into training and testing sets (80% train, 20% test)\n",
        "X_train, X_test, y_train, y_test = train_test_split(X, y, test_size=0.2, random_state=42)\n",
        "\n",
        "# Creating and training the Decision Tree Classifier\n",
        "classifier = DecisionTreeClassifier(random_state=42)\n",
        "classifier.fit(X_train, y_train)\n",
        "\n",
        "# Making predictions on the test set\n",
        "y_pred = classifier.predict(X_test)\n",
        "\n",
        "# Calculating the model accuracy\n",
        "accuracy = accuracy_score(y_test, y_pred)\n",
        "\n",
        "print(f\"Model Accuracy: {accuracy * 100:.2f}%\")\n"
      ],
      "metadata": {
        "colab": {
          "base_uri": "https://localhost:8080/"
        },
        "id": "xgZWPHLy0lUP",
        "outputId": "2a470d8c-9db4-41e1-eda9-7b41b7bf4645"
      },
      "execution_count": null,
      "outputs": [
        {
          "output_type": "stream",
          "name": "stdout",
          "text": [
            "Model Accuracy: 100.00%\n"
          ]
        }
      ]
    },
    {
      "cell_type": "code",
      "source": [
        "## QUES 17) Write a Python program to train a Decision Tree Classifier using Gini Impurity as the criterion and print the\n",
        "# feature importances\n",
        "# Importing necessary libraries\n",
        "from sklearn.datasets import load_iris\n",
        "from sklearn.tree import DecisionTreeClassifier\n",
        "from sklearn.model_selection import train_test_split\n",
        "\n",
        "# Loading the Iris dataset\n",
        "iris = load_iris()\n",
        "X = iris.data  # Features\n",
        "y = iris.target  # Target labels\n",
        "\n",
        "# Splitting the dataset into training and testing sets (80% train, 20% test)\n",
        "X_train, X_test, y_train, y_test = train_test_split(X, y, test_size=0.2, random_state=42)\n",
        "\n",
        "# Creating the Decision Tree Classifier with Gini Impurity as the criterion\n",
        "classifier = DecisionTreeClassifier(criterion=\"gini\", random_state=42)\n",
        "classifier.fit(X_train, y_train)  # Training the model\n",
        "\n",
        "# Printing the feature importances\n",
        "feature_importances = classifier.feature_importances_\n",
        "print(\"Feature Importances:\")\n",
        "for feature_name, importance in zip(iris.feature_names, feature_importances):\n",
        "    print(f\"{feature_name}: {importance:.4f}\")\n"
      ],
      "metadata": {
        "colab": {
          "base_uri": "https://localhost:8080/"
        },
        "id": "et0qlu-p0yHw",
        "outputId": "0eca27d1-9c22-43e8-cb80-bcdf54dd52a6"
      },
      "execution_count": null,
      "outputs": [
        {
          "output_type": "stream",
          "name": "stdout",
          "text": [
            "Feature Importances:\n",
            "sepal length (cm): 0.0000\n",
            "sepal width (cm): 0.0167\n",
            "petal length (cm): 0.9061\n",
            "petal width (cm): 0.0772\n"
          ]
        }
      ]
    },
    {
      "cell_type": "code",
      "source": [
        "## QUES 18) Write a Python program to train a Decision Tree Classifier using Entropy as the splitting criterion and print the\n",
        "# model accuracy\n",
        "# Importing necessary libraries\n",
        "from sklearn.datasets import load_iris\n",
        "from sklearn.tree import DecisionTreeClassifier\n",
        "from sklearn.model_selection import train_test_split\n",
        "from sklearn.metrics import accuracy_score\n",
        "\n",
        "# Loading the Iris dataset\n",
        "iris = load_iris()\n",
        "X = iris.data  # Features\n",
        "y = iris.target  # Target labels\n",
        "\n",
        "# Splitting the dataset into training and testing sets (80% train, 20% test)\n",
        "X_train, X_test, y_train, y_test = train_test_split(X, y, test_size=0.2, random_state=42)\n",
        "\n",
        "# Creating the Decision Tree Classifier with Entropy as the criterion\n",
        "classifier = DecisionTreeClassifier(criterion=\"entropy\", random_state=42)\n",
        "classifier.fit(X_train, y_train)  # Training the model\n",
        "\n",
        "# Making predictions on the test set\n",
        "y_pred = classifier.predict(X_test)\n",
        "\n",
        "# Calculating the model accuracy\n",
        "accuracy = accuracy_score(y_test, y_pred)\n",
        "\n",
        "print(f\"Model Accuracy: {accuracy * 100:.2f}%\")\n"
      ],
      "metadata": {
        "colab": {
          "base_uri": "https://localhost:8080/"
        },
        "id": "kPihp-cN0-CU",
        "outputId": "3a9cb6b4-7ee8-49bc-8548-a8991cef2181"
      },
      "execution_count": null,
      "outputs": [
        {
          "output_type": "stream",
          "name": "stdout",
          "text": [
            "Model Accuracy: 100.00%\n"
          ]
        }
      ]
    },
    {
      "cell_type": "code",
      "source": [
        "## QUES 19) Write a Python program to train a Decision Tree Regressor on a housing dataset and evaluate using Mean\n",
        "# Squared Error (MSE)\n",
        "from sklearn.datasets import fetch_california_housing\n",
        "from sklearn.tree import DecisionTreeRegressor\n",
        "from sklearn.model_selection import train_test_split\n",
        "from sklearn.metrics import mean_squared_error\n",
        "\n",
        "# Load the California housing dataset\n",
        "housing = fetch_california_housing()\n",
        "X = housing.data\n",
        "y = housing.target\n",
        "\n",
        "# Split the data into training and testing sets\n",
        "X_train, X_test, y_train, y_test = train_test_split(X, y, test_size=0.2, random_state=42)\n",
        "\n",
        "# Create and train the Decision Tree Regressor\n",
        "regressor = DecisionTreeRegressor(random_state=42)\n",
        "regressor.fit(X_train, y_train)\n",
        "\n",
        "# Make predictions on the test set\n",
        "y_pred = regressor.predict(X_test)\n",
        "\n",
        "# Calculate the Mean Squared Error (MSE)\n",
        "mse = mean_squared_error(y_test, y_pred)\n",
        "\n",
        "# Print the MSE\n",
        "print(f\"Mean Squared Error (MSE): {mse:.2f}\")"
      ],
      "metadata": {
        "colab": {
          "base_uri": "https://localhost:8080/"
        },
        "id": "cCSLva_u1Pml",
        "outputId": "bb5c1e3a-e9d4-41ea-c57c-2b7847d52978"
      },
      "execution_count": null,
      "outputs": [
        {
          "output_type": "stream",
          "name": "stdout",
          "text": [
            "Mean Squared Error (MSE): 0.50\n"
          ]
        }
      ]
    },
    {
      "cell_type": "code",
      "source": [
        "## QUES 20) Write a Python program to train a Decision Tree Classifier and visualize the tree using graphviz\n",
        "# Importing necessary libraries\n",
        "from sklearn.datasets import load_iris\n",
        "from sklearn.tree import DecisionTreeClassifier, export_graphviz\n",
        "import graphviz\n",
        "\n",
        "# Loading the Iris dataset\n",
        "iris = load_iris()\n",
        "X = iris.data  # Features\n",
        "y = iris.target  # Target labels\n",
        "\n",
        "# Creating and training the Decision Tree Classifier\n",
        "classifier = DecisionTreeClassifier(criterion=\"gini\", random_state=42)\n",
        "classifier.fit(X, y)\n",
        "\n",
        "# Visualizing the Decision Tree using graphviz\n",
        "dot_data = export_graphviz(\n",
        "    classifier,\n",
        "    out_file=None,  # Output directly as a string\n",
        "    feature_names=iris.feature_names,\n",
        "    class_names=iris.target_names,\n",
        "    filled=True,  # Color the nodes based on the class\n",
        "    rounded=True,  # Use rounded boxes for nodes\n",
        "    special_characters=True  # Ensure compatibility with special characters\n",
        ")\n",
        "\n",
        "# Create a Graphviz graph\n",
        "graph = graphviz.Source(dot_data)\n",
        "\n",
        "# Render and visualize the graph\n",
        "graph.render(\"decision_tree\")  # Save as 'decision_tree.pdf'\n",
        "graph.view()  # Opens the rendered tree visualization\n"
      ],
      "metadata": {
        "colab": {
          "base_uri": "https://localhost:8080/",
          "height": 36
        },
        "id": "E_z4xUHU10LD",
        "outputId": "56240faa-6fcd-4279-bc47-4eb1d6b66f52"
      },
      "execution_count": null,
      "outputs": [
        {
          "output_type": "execute_result",
          "data": {
            "text/plain": [
              "'decision_tree.pdf'"
            ],
            "application/vnd.google.colaboratory.intrinsic+json": {
              "type": "string"
            }
          },
          "metadata": {},
          "execution_count": 10
        }
      ]
    },
    {
      "cell_type": "code",
      "source": [
        "## QUES 21)  Write a Python program to train a Decision Tree Classifier with a maximum depth of 3 and compare its\n",
        "# accuracy with a fully grown tree\n",
        "# Importing necessary libraries\n",
        "from sklearn.datasets import load_iris\n",
        "from sklearn.tree import DecisionTreeClassifier\n",
        "from sklearn.model_selection import train_test_split\n",
        "from sklearn.metrics import accuracy_score\n",
        "\n",
        "# Loading the Iris dataset\n",
        "iris = load_iris()\n",
        "X = iris.data  # Features\n",
        "y = iris.target  # Target labels\n",
        "\n",
        "# Splitting the dataset into training and testing sets (80% train, 20% test)\n",
        "X_train, X_test, y_train, y_test = train_test_split(X, y, test_size=0.2, random_state=42)\n",
        "\n",
        "# Creating and training a Decision Tree Classifier with max depth of 3\n",
        "classifier_depth_3 = DecisionTreeClassifier(max_depth=3, random_state=42)\n",
        "classifier_depth_3.fit(X_train, y_train)\n",
        "y_pred_depth_3 = classifier_depth_3.predict(X_test)\n",
        "accuracy_depth_3 = accuracy_score(y_test, y_pred_depth_3)\n",
        "\n",
        "# Creating and training a fully grown Decision Tree Classifier (default behavior)\n",
        "classifier_fully_grown = DecisionTreeClassifier(random_state=42)\n",
        "classifier_fully_grown.fit(X_train, y_train)\n",
        "y_pred_fully_grown = classifier_fully_grown.predict(X_test)\n",
        "accuracy_fully_grown = accuracy_score(y_test, y_pred_fully_grown)\n",
        "\n",
        "# Printing the accuracies\n",
        "print(f\"Accuracy with max depth of 3: {accuracy_depth_3 * 100:.2f}%\")\n",
        "print(f\"Accuracy with fully grown tree: {accuracy_fully_grown * 100:.2f}%\")\n"
      ],
      "metadata": {
        "colab": {
          "base_uri": "https://localhost:8080/"
        },
        "id": "A2VwAPpp2K48",
        "outputId": "a0b7ce50-06ed-4022-bb7b-4f44323c9f5a"
      },
      "execution_count": null,
      "outputs": [
        {
          "output_type": "stream",
          "name": "stdout",
          "text": [
            "Accuracy with max depth of 3: 100.00%\n",
            "Accuracy with fully grown tree: 100.00%\n"
          ]
        }
      ]
    },
    {
      "cell_type": "code",
      "source": [
        "## QUES 22) Write a Python program to train a Decision Tree Classifier using min_samples_split=5 and compare its\n",
        "# accuracy with a default tree\n",
        "# Importing necessary libraries\n",
        "from sklearn.datasets import load_iris\n",
        "from sklearn.tree import DecisionTreeClassifier\n",
        "from sklearn.model_selection import train_test_split\n",
        "from sklearn.metrics import accuracy_score\n",
        "\n",
        "# Loading the Iris dataset\n",
        "iris = load_iris()\n",
        "X = iris.data  # Features\n",
        "y = iris.target  # Target labels\n",
        "\n",
        "# Splitting the dataset into training and testing sets (80% train, 20% test)\n",
        "X_train, X_test, y_train, y_test = train_test_split(X, y, test_size=0.2, random_state=42)\n",
        "\n",
        "# Creating and training a Decision Tree Classifier with min_samples_split=5\n",
        "classifier_split_5 = DecisionTreeClassifier(min_samples_split=5, random_state=42)\n",
        "classifier_split_5.fit(X_train, y_train)\n",
        "y_pred_split_5 = classifier_split_5.predict(X_test)\n",
        "accuracy_split_5 = accuracy_score(y_test, y_pred_split_5)\n",
        "\n",
        "# Creating and training a default Decision Tree Classifier\n",
        "classifier_default = DecisionTreeClassifier(random_state=42)\n",
        "classifier_default.fit(X_train, y_train)\n",
        "y_pred_default = classifier_default.predict(X_test)\n",
        "accuracy_default = accuracy_score(y_test, y_pred_default)\n",
        "\n",
        "# Printing the accuracies\n",
        "print(f\"Accuracy with min_samples_split=5: {accuracy_split_5 * 100:.2f}%\")\n",
        "print(f\"Accuracy with default tree: {accuracy_default * 100:.2f}%\")\n"
      ],
      "metadata": {
        "colab": {
          "base_uri": "https://localhost:8080/"
        },
        "id": "6RkzfvQN2WVK",
        "outputId": "a5fef787-9888-403c-8e00-fc8c96760fd2"
      },
      "execution_count": null,
      "outputs": [
        {
          "output_type": "stream",
          "name": "stdout",
          "text": [
            "Accuracy with min_samples_split=5: 100.00%\n",
            "Accuracy with default tree: 100.00%\n"
          ]
        }
      ]
    },
    {
      "cell_type": "code",
      "source": [
        "## QUES 23) Write a Python program to apply feature scaling before training a Decision Tree Classifier and compare its\n",
        "# accuracy with unscaled data\n",
        "# Importing necessary libraries\n",
        "from sklearn.datasets import load_iris\n",
        "from sklearn.tree import DecisionTreeClassifier\n",
        "from sklearn.model_selection import train_test_split\n",
        "from sklearn.preprocessing import StandardScaler\n",
        "from sklearn.metrics import accuracy_score\n",
        "\n",
        "# Loading the Iris dataset\n",
        "iris = load_iris()\n",
        "X = iris.data  # Features\n",
        "y = iris.target  # Target labels\n",
        "\n",
        "# Splitting the dataset into training and testing sets (80% train, 20% test)\n",
        "X_train, X_test, y_train, y_test = train_test_split(X, y, test_size=0.2, random_state=42)\n",
        "\n",
        "# Training a Decision Tree Classifier without feature scaling\n",
        "classifier_unscaled = DecisionTreeClassifier(random_state=42)\n",
        "classifier_unscaled.fit(X_train, y_train)\n",
        "y_pred_unscaled = classifier_unscaled.predict(X_test)\n",
        "accuracy_unscaled = accuracy_score(y_test, y_pred_unscaled)\n",
        "\n",
        "# Applying feature scaling using StandardScaler\n",
        "scaler = StandardScaler()\n",
        "X_train_scaled = scaler.fit_transform(X_train)\n",
        "X_test_scaled = scaler.transform(X_test)\n",
        "\n",
        "# Training a Decision Tree Classifier with feature scaling\n",
        "classifier_scaled = DecisionTreeClassifier(random_state=42)\n",
        "classifier_scaled.fit(X_train_scaled, y_train)\n",
        "y_pred_scaled = classifier_scaled.predict(X_test_scaled)\n",
        "accuracy_scaled = accuracy_score(y_test, y_pred_scaled)\n",
        "\n",
        "# Printing the accuracies\n",
        "print(f\"Accuracy without feature scaling: {accuracy_unscaled * 100:.2f}%\")\n",
        "print(f\"Accuracy with feature scaling: {accuracy_scaled * 100:.2f}%\")\n"
      ],
      "metadata": {
        "colab": {
          "base_uri": "https://localhost:8080/"
        },
        "id": "lK_Kc2VU2kLb",
        "outputId": "d65da378-b50d-4fcb-a5ff-cb7d27d6094f"
      },
      "execution_count": null,
      "outputs": [
        {
          "output_type": "stream",
          "name": "stdout",
          "text": [
            "Accuracy without feature scaling: 100.00%\n",
            "Accuracy with feature scaling: 100.00%\n"
          ]
        }
      ]
    },
    {
      "cell_type": "code",
      "source": [
        "## QUES 24) Write a Python program to train a Decision Tree Classifier using One-vs-Rest (OvR) strategy for multiclass\n",
        "# classification\n",
        "# Importing necessary libraries\n",
        "from sklearn.datasets import load_iris\n",
        "from sklearn.tree import DecisionTreeClassifier\n",
        "from sklearn.multiclass import OneVsRestClassifier\n",
        "from sklearn.model_selection import train_test_split\n",
        "from sklearn.metrics import accuracy_score\n",
        "\n",
        "# Loading the Iris dataset\n",
        "iris = load_iris()\n",
        "X = iris.data  # Features\n",
        "y = iris.target  # Target labels (multiclass)\n",
        "\n",
        "# Splitting the dataset into training and testing sets (80% train, 20% test)\n",
        "X_train, X_test, y_train, y_test = train_test_split(X, y, test_size=0.2, random_state=42)\n",
        "\n",
        "# Creating and training a Decision Tree Classifier using the One-vs-Rest strategy\n",
        "ovr_classifier = OneVsRestClassifier(DecisionTreeClassifier(random_state=42))\n",
        "ovr_classifier.fit(X_train, y_train)\n",
        "\n",
        "# Making predictions on the test set\n",
        "y_pred = ovr_classifier.predict(X_test)\n",
        "\n",
        "# Calculating the model accuracy\n",
        "accuracy = accuracy_score(y_test, y_pred)\n",
        "\n",
        "print(f\"Model Accuracy using OvR strategy: {accuracy * 100:.2f}%\")\n"
      ],
      "metadata": {
        "colab": {
          "base_uri": "https://localhost:8080/"
        },
        "id": "J63_9LsD2uiP",
        "outputId": "108232c7-7e04-4289-dd8f-68947070bbf7"
      },
      "execution_count": null,
      "outputs": [
        {
          "output_type": "stream",
          "name": "stdout",
          "text": [
            "Model Accuracy using OvR strategy: 100.00%\n"
          ]
        }
      ]
    },
    {
      "cell_type": "code",
      "source": [
        "## QUES 25) Write a Python program to train a Decision Tree Classifier and display the feature importance scores\n",
        "# Importing necessary libraries\n",
        "from sklearn.datasets import load_iris\n",
        "from sklearn.tree import DecisionTreeClassifier\n",
        "from sklearn.model_selection import train_test_split\n",
        "\n",
        "# Loading the Iris dataset\n",
        "iris = load_iris()\n",
        "X = iris.data  # Features\n",
        "y = iris.target  # Target labels\n",
        "\n",
        "# Splitting the dataset into training and testing sets (80% train, 20% test)\n",
        "X_train, X_test, y_train, y_test = train_test_split(X, y, test_size=0.2, random_state=42)\n",
        "\n",
        "# Creating and training the Decision Tree Classifier\n",
        "classifier = DecisionTreeClassifier(random_state=42)\n",
        "classifier.fit(X_train, y_train)\n",
        "\n",
        "# Displaying the feature importance scores\n",
        "print(\"Feature Importances:\")\n",
        "for feature_name, importance in zip(iris.feature_names, classifier.feature_importances_):\n",
        "    print(f\"{feature_name}: {importance:.4f}\")\n"
      ],
      "metadata": {
        "colab": {
          "base_uri": "https://localhost:8080/"
        },
        "id": "4x4Hb74C23aU",
        "outputId": "3a4d381c-6290-4900-f707-ef0d77e0674c"
      },
      "execution_count": null,
      "outputs": [
        {
          "output_type": "stream",
          "name": "stdout",
          "text": [
            "Feature Importances:\n",
            "sepal length (cm): 0.0000\n",
            "sepal width (cm): 0.0167\n",
            "petal length (cm): 0.9061\n",
            "petal width (cm): 0.0772\n"
          ]
        }
      ]
    },
    {
      "cell_type": "code",
      "source": [
        "## QUES 26) Write a Python program to train a Decision Tree Regressor with max_depth=5 and compare its performance\n",
        "# with an unrestricted tree\n",
        "# Importing necessary libraries\n",
        "from sklearn.datasets import fetch_california_housing\n",
        "from sklearn.tree import DecisionTreeRegressor\n",
        "from sklearn.model_selection import train_test_split\n",
        "from sklearn.metrics import mean_squared_error\n",
        "\n",
        "# Loading the California Housing dataset\n",
        "data = fetch_california_housing()\n",
        "X = data.data  # Features\n",
        "y = data.target  # Target variable (housing prices)\n",
        "\n",
        "# Splitting the dataset into training and testing sets (80% train, 20% test)\n",
        "X_train, X_test, y_train, y_test = train_test_split(X, y, test_size=0.2, random_state=42)\n",
        "\n",
        "# Training a Decision Tree Regressor with max_depth=5\n",
        "regressor_depth_5 = DecisionTreeRegressor(max_depth=5, random_state=42)\n",
        "regressor_depth_5.fit(X_train, y_train)\n",
        "y_pred_depth_5 = regressor_depth_5.predict(X_test)\n",
        "mse_depth_5 = mean_squared_error(y_test, y_pred_depth_5)\n",
        "\n",
        "# Training a fully grown (unrestricted) Decision Tree Regressor\n",
        "regressor_unrestricted = DecisionTreeRegressor(random_state=42)\n",
        "regressor_unrestricted.fit(X_train, y_train)\n",
        "y_pred_unrestricted = regressor_unrestricted.predict(X_test)\n",
        "mse_unrestricted = mean_squared_error(y_test, y_pred_unrestricted)\n",
        "\n",
        "# Printing the Mean Squared Errors\n",
        "print(f\"Mean Squared Error with max_depth=5: {mse_depth_5:.4f}\")\n",
        "print(f\"Mean Squared Error with unrestricted tree: {mse_unrestricted:.4f}\")\n"
      ],
      "metadata": {
        "colab": {
          "base_uri": "https://localhost:8080/"
        },
        "id": "QLlFtcHr3Jo-",
        "outputId": "7b6152ce-923b-4755-88a1-086fc2ccb12f"
      },
      "execution_count": null,
      "outputs": [
        {
          "output_type": "stream",
          "name": "stdout",
          "text": [
            "Mean Squared Error with max_depth=5: 0.5245\n",
            "Mean Squared Error with unrestricted tree: 0.4952\n"
          ]
        }
      ]
    },
    {
      "cell_type": "code",
      "source": [
        "## QUES 27)  Write a Python program to train a Decision Tree Classifier, apply Cost Complexity Pruning (CCP), and\n",
        "# visualize its effect on accuracy\n",
        "# Importing necessary libraries\n",
        "from sklearn.datasets import load_iris\n",
        "from sklearn.tree import DecisionTreeClassifier\n",
        "from sklearn.model_selection import train_test_split\n",
        "from sklearn.metrics import accuracy_score\n",
        "import matplotlib.pyplot as plt\n",
        "\n",
        "# Loading the Iris dataset\n",
        "iris = load_iris()\n",
        "X = iris.data  # Features\n",
        "y = iris.target  # Target labels\n",
        "\n",
        "# Splitting the dataset into training and testing sets (80% train, 20% test)\n",
        "X_train, X_test, y_train, y_test = train_test_split(X, y, test_size=0.2, random_state=42)\n",
        "\n",
        "# Training a full Decision Tree Classifier to find effective alphas for pruning\n",
        "classifier_full = DecisionTreeClassifier(random_state=42)\n",
        "path = classifier_full.cost_complexity_pruning_path(X_train, y_train)\n",
        "ccp_alphas = path.ccp_alphas  # Effective alphas for pruning\n",
        "impurities = path.impurities  # Impurity at each alpha\n",
        "\n",
        "# Plotting the impurities vs. alphas\n",
        "plt.figure(figsize=(8, 6))\n",
        "plt.plot(ccp_alphas, impurities, marker=\"o\", drawstyle=\"steps-post\")\n",
        "plt.xlabel(\"Alpha\")\n",
        "plt.ylabel(\"Total Impurity of Leaves\")\n",
        "plt.title(\"Impurity vs Alpha for CCP\")\n",
        "plt.show()\n",
        "\n",
        "# Training and evaluating Decision Tree models for different alphas\n",
        "train_accuracies = []\n",
        "test_accuracies = []\n",
        "\n",
        "for alpha in ccp_alphas:\n",
        "    classifier = DecisionTreeClassifier(random_state=42, ccp_alpha=alpha)\n",
        "    classifier.fit(X_train, y_train)\n",
        "    train_accuracies.append(accuracy_score(y_train, classifier.predict(X_train)))\n",
        "    test_accuracies.append(accuracy_score(y_test, classifier.predict(X_test)))\n",
        "\n",
        "# Plotting the effect of CCP on training and testing accuracy\n",
        "plt.figure(figsize=(8, 6))\n",
        "plt.plot(ccp_alphas, train_accuracies, label=\"Train Accuracy\", marker=\"o\", drawstyle=\"steps-post\")\n",
        "plt.plot(ccp_alphas, test_accuracies, label=\"Test Accuracy\", marker=\"o\", drawstyle=\"steps-post\")\n",
        "plt.xlabel(\"Alpha\")\n",
        "plt.ylabel(\"Accuracy\")\n",
        "plt.title(\"Accuracy vs Alpha for CCP\")\n",
        "plt.legend()\n",
        "plt.show()\n",
        "\n",
        "# Printing the best alpha for generalization (optional)\n",
        "best_alpha = ccp_alphas[test_accuracies.index(max(test_accuracies))]\n",
        "print(f\"Best alpha for generalization: {best_alpha}\")\n"
      ],
      "metadata": {
        "colab": {
          "base_uri": "https://localhost:8080/",
          "height": 1000
        },
        "id": "2W6oYyxO3WD1",
        "outputId": "20b92d51-2927-4b19-e2dd-69509abcbb95"
      },
      "execution_count": null,
      "outputs": [
        {
          "output_type": "display_data",
          "data": {
            "text/plain": [
              "<Figure size 800x600 with 1 Axes>"
            ],
            "image/png": "[encoded data removed]"
          },
          "metadata": {}
        },
        {
          "output_type": "display_data",
          "data": {
            "text/plain": [
              "<Figure size 800x600 with 1 Axes>"
            ],
            "image/png": "[encoded data removed]"
          },
          "metadata": {}
        },
        {
          "output_type": "stream",
          "name": "stdout",
          "text": [
            "Best alpha for generalization: 0.0\n"
          ]
        }
      ]
    },
    {
      "cell_type": "code",
      "source": [
        "## QUES 28)  Write a Python program to train a Decision Tree Classifier and evaluate its performance using Precision,\n",
        "# Recall, and F1-Score\n",
        "# Importing necessary libraries\n",
        "from sklearn.datasets import load_iris\n",
        "from sklearn.tree import DecisionTreeClassifier\n",
        "from sklearn.model_selection import train_test_split\n",
        "from sklearn.metrics import classification_report\n",
        "\n",
        "# Loading the Iris dataset\n",
        "iris = load_iris()\n",
        "X = iris.data  # Features\n",
        "y = iris.target  # Target labels (multiclass classification)\n",
        "\n",
        "# Splitting the dataset into training and testing sets (80% train, 20% test)\n",
        "X_train, X_test, y_train, y_test = train_test_split(X, y, test_size=0.2, random_state=42)\n",
        "\n",
        "# Creating and training the Decision Tree Classifier\n",
        "classifier = DecisionTreeClassifier(random_state=42)\n",
        "classifier.fit(X_train, y_train)\n",
        "\n",
        "# Making predictions on the test set\n",
        "y_pred = classifier.predict(X_test)\n",
        "\n",
        "# Evaluating the model using Precision, Recall, and F1-Score\n",
        "report = classification_report(y_test, y_pred, target_names=iris.target_names)\n",
        "print(\"Classification Report:\")\n",
        "print(report)\n"
      ],
      "metadata": {
        "colab": {
          "base_uri": "https://localhost:8080/"
        },
        "id": "xGEygb7e3doF",
        "outputId": "a02cf8e9-ec99-41f0-a285-b2a843b05c6c"
      },
      "execution_count": null,
      "outputs": [
        {
          "output_type": "stream",
          "name": "stdout",
          "text": [
            "Classification Report:\n",
            "              precision    recall  f1-score   support\n",
            "\n",
            "      setosa       1.00      1.00      1.00        10\n",
            "  versicolor       1.00      1.00      1.00         9\n",
            "   virginica       1.00      1.00      1.00        11\n",
            "\n",
            "    accuracy                           1.00        30\n",
            "   macro avg       1.00      1.00      1.00        30\n",
            "weighted avg       1.00      1.00      1.00        30\n",
            "\n"
          ]
        }
      ]
    },
    {
      "cell_type": "code",
      "source": [
        "## QUES 29) Write a Python program to train a Decision Tree Classifier and visualize the confusion matrix using seaborn\n",
        "# Importing necessary libraries\n",
        "from sklearn.datasets import load_iris\n",
        "from sklearn.tree import DecisionTreeClassifier\n",
        "from sklearn.model_selection import train_test_split\n",
        "from sklearn.metrics import confusion_matrix, ConfusionMatrixDisplay\n",
        "import seaborn as sns\n",
        "import matplotlib.pyplot as plt\n",
        "\n",
        "# Loading the Iris dataset\n",
        "iris = load_iris()\n",
        "X = iris.data  # Features\n",
        "y = iris.target  # Target labels\n",
        "\n",
        "# Splitting the dataset into training and testing sets (80% train, 20% test)\n",
        "X_train, X_test, y_train, y_test = train_test_split(X, y, test_size=0.2, random_state=42)\n",
        "\n",
        "# Creating and training the Decision Tree Classifier\n",
        "classifier = DecisionTreeClassifier(random_state=42)\n",
        "classifier.fit(X_train, y_train)\n",
        "\n",
        "# Making predictions on the test set\n",
        "y_pred = classifier.predict(X_test)\n",
        "\n",
        "# Generating the confusion matrix\n",
        "cm = confusion_matrix(y_test, y_pred)\n",
        "\n",
        "# Visualizing the confusion matrix using seaborn\n",
        "plt.figure(figsize=(8, 6))\n",
        "sns.heatmap(cm, annot=True, fmt='d', cmap='Blues', xticklabels=iris.target_names, yticklabels=iris.target_names)\n",
        "plt.xlabel('Predicted Labels')\n",
        "plt.ylabel('True Labels')\n",
        "plt.title('Confusion Matrix')\n",
        "plt.show()\n"
      ],
      "metadata": {
        "colab": {
          "base_uri": "https://localhost:8080/",
          "height": 564
        },
        "id": "7FU24Fom3om5",
        "outputId": "b2c76209-7dd9-49ea-94a8-32bb18eb7f88"
      },
      "execution_count": null,
      "outputs": [
        {
          "output_type": "display_data",
          "data": {
            "text/plain": [
              "<Figure size 800x600 with 2 Axes>"
            ],
            "image/png": "[encoded data removed]"
          },
          "metadata": {}
        }
      ]
    },
    {
      "cell_type": "code",
      "source": [
        "## QUES 30) Write a Python program to train a Decision Tree Classifier and use GridSearchCV to find the optimal values\n",
        "# for max_depth and min_samples_split\n",
        "# Importing necessary libraries\n",
        "from sklearn.datasets import load_iris\n",
        "from sklearn.tree import DecisionTreeClassifier\n",
        "from sklearn.model_selection import GridSearchCV, train_test_split\n",
        "from sklearn.metrics import accuracy_score\n",
        "\n",
        "# Loading the Iris dataset\n",
        "iris = load_iris()\n",
        "X = iris.data  # Features\n",
        "y = iris.target  # Target labels\n",
        "\n",
        "# Splitting the dataset into training and testing sets (80% train, 20% test)\n",
        "X_train, X_test, y_train, y_test = train_test_split(X, y, test_size=0.2, random_state=42)\n",
        "\n",
        "# Defining the Decision Tree Classifier\n",
        "classifier = DecisionTreeClassifier(random_state=42)\n",
        "\n",
        "# Defining the parameter grid for max_depth and min_samples_split\n",
        "param_grid = {\n",
        "    'max_depth': [2, 3, 4, 5, 6, None],  # Varying tree depths\n",
        "    'min_samples_split': [2, 5, 10, 20]  # Varying minimum samples to split\n",
        "}\n",
        "\n",
        "# Setting up GridSearchCV to find the best parameters\n",
        "grid_search = GridSearchCV(estimator=classifier, param_grid=param_grid, cv=5, scoring='accuracy', verbose=1)\n",
        "grid_search.fit(X_train, y_train)\n",
        "\n",
        "# Extracting the best parameters and the best estimator\n",
        "best_params = grid_search.best_params_\n",
        "best_classifier = grid_search.best_estimator_\n",
        "\n",
        "# Making predictions using the best estimator\n",
        "y_pred = best_classifier.predict(X_test)\n",
        "\n",
        "# Calculating the accuracy of the optimized classifier\n",
        "accuracy = accuracy_score(y_test, y_pred)\n",
        "\n",
        "# Printing the best parameters and model accuracy\n",
        "print(f\"Best Parameters: {best_params}\")\n",
        "print(f\"Model Accuracy with Optimal Parameters: {accuracy * 100:.2f}%\")\n"
      ],
      "metadata": {
        "colab": {
          "base_uri": "https://localhost:8080/"
        },
        "id": "M0QxIZh83_6h",
        "outputId": "58dc486d-fd17-48da-a4d0-31428255e3ea"
      },
      "execution_count": null,
      "outputs": [
        {
          "output_type": "stream",
          "name": "stdout",
          "text": [
            "Fitting 5 folds for each of 24 candidates, totalling 120 fits\n",
            "Best Parameters: {'max_depth': 4, 'min_samples_split': 2}\n",
            "Model Accuracy with Optimal Parameters: 100.00%\n"
          ]
        }
      ]
    }
  ]
}